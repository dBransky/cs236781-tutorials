{
 "cells": [
  {
   "cell_type": "markdown",
   "metadata": {
    "slideshow": {
     "slide_type": "slide"
    }
   },
   "source": [
    "$$\n",
    "\\newcommand{\\bb}[1]{\\boldsymbol{#1}}\n",
    "$$\n",
    "\n",
    "# CS236781: Deep Learning\n",
    "\n",
    "# Tutorial 1: Python and tensor basics"
   ]
  },
  {
   "cell_type": "markdown",
   "metadata": {
    "slideshow": {
     "slide_type": "subslide"
    }
   },
   "source": [
    "In this tutorial, we will cover:\n",
    "* Course info \n",
    "* Environment setup with `conda`\n",
    "* Jupyter: Using notebooks\n",
    "* Numpy: Arrays, Array indexing, Datatypes, Array math, Broadcasting\n",
    "* PyTorch tensors: Brief intro to automatic differentiation\n",
    "\n",
    "Also in this tutorial, but for self-study:\n",
    "* Basic Python: Basic data types (Containers, Lists, Dictionaries, Sets, Tuples), Functions, Classes\n"
   ]
  },
  {
   "cell_type": "markdown",
   "metadata": {
    "slideshow": {
     "slide_type": "subslide"
    }
   },
   "source": [
    "## Administration and General Info"
   ]
  },
  {
   "cell_type": "markdown",
   "metadata": {
    "slideshow": {
     "slide_type": "subslide"
    }
   },
   "source": [
    "My info:\n",
    "- [Aviv A. Rosenberg](https://avivr.net)\n",
    "- avivr@cs.technion.ac.il\n",
    "- Office hour: Thursdays, 13:30 via Zoom.\n"
   ]
  },
  {
   "cell_type": "markdown",
   "metadata": {
    "slideshow": {
     "slide_type": "subslide"
    }
   },
   "source": [
    "Course:\n",
    "- Website is at https://vistalab-technion.github.io/cs236781/\n",
    "- Updates will be posted there (but emails will be sent via WebCourse)\n",
    "- Post questions on **Piazza** only! (Not email, not facebook)\n",
    "- Any questions about the **homeworks** or **tutorials** -> I'll answer on Piazza.\n",
    "- For personal requests/delays -> email Chaim.\n",
    "- For appeals/questions about grades -> Email Yaniv/Evgenii."
   ]
  },
  {
   "cell_type": "markdown",
   "metadata": {
    "slideshow": {
     "slide_type": "subslide"
    }
   },
   "source": [
    "Lectures:\n",
    "- Provide a high level presentation of most core topics of Deep Learning, including very recent topics.\n",
    "- Sometimes a supplementary lecture is available with more in-depth examples.\n",
    "- Give mathematical background and justifications.\n",
    "- Videos are available for almost all lectures (by Profs. Alex Bronstein and Avi Mendelson)."
   ]
  },
  {
   "cell_type": "markdown",
   "metadata": {
    "slideshow": {
     "slide_type": "subslide"
    }
   },
   "source": [
    "Tutorials:\n",
    "- Structure is usually a short theory reminders part and then step-by-step technical implementation of a real  problem.\n",
    "- Technical, meant to help you understand the implementation details behind deep learning.\n",
    "- **Highly relevant** for success in the homework assignments.\n",
    "- After this tutorial you should clone the [tutorials repo](https://github.com/vistalab-technion/cs236781-tutorials), install the conda env and play with the code.\n",
    "- Videos are available on course site (by Aviv Rosenberg)."
   ]
  },
  {
   "cell_type": "markdown",
   "metadata": {
    "slideshow": {
     "slide_type": "subslide"
    }
   },
   "source": [
    "Homework:\n",
    "- Four HW assignments, quite heavy load. Best to tackle them after you have sufficient programming experience.\n",
    "- Almost entirely \"wet\" i.e. implementation of real algorithms with real data.\n",
    "- Should be done in pairs.\n",
    "- Some will require use of GPUs. We will provide access to course servers - **please register**.\n",
    "- Read the [getting started page](https://vistalab-technion.github.io/cs236781/assignments/getting-started) and [collaboration policy](https://vistalab-technion.github.io/cs236781/info/#administration) carefully!"
   ]
  },
  {
   "cell_type": "markdown",
   "metadata": {
    "slideshow": {
     "slide_type": "slide"
    }
   },
   "source": [
    "## Introduction"
   ]
  },
  {
   "cell_type": "markdown",
   "metadata": {
    "slideshow": {
     "slide_type": "subslide"
    }
   },
   "source": [
    "Python is a great general-purpose programming language on its own and with the addition of a few\n",
    "popular libraries such as `numpy`, `scipy`, `pandas`, `scikit-learn`, `matplotlib` and others it becomes an\n",
    "effective scientific computing environment.\n",
    "\n",
    "Today it is also the most-used language for machine learning both in research and industry."
   ]
  },
  {
   "cell_type": "markdown",
   "metadata": {
    "slideshow": {
     "slide_type": "subslide"
    }
   },
   "source": [
    "Recently many **Deep Learning frameworks** have emerged for python.\n",
    "Arguably the most notable ones in 2021 are **TensorFlow** (with the Keras frontend) and **PyTorch**.\n",
    "\n",
    "In this course we'll use PyTorch, which is currently [the leading DL framework](https://thegradient.pub/state-of-ml-frameworks-2019-pytorch-dominates-research-tensorflow-dominates-industry) for research.\n",
    "\n",
    "<center><img src=\"https://thegradient.pub/content/images/2019/10/number_medium.png\" width=\"700\"/></center>"
   ]
  },
  {
   "cell_type": "markdown",
   "metadata": {
    "slideshow": {
     "slide_type": "subslide"
    }
   },
   "source": [
    "Many of you may have some experience with Python and numpy; for the rest of you, this notebook can serve as a quick crash course both on the Python programming language and on the use of Python for scientific computing.\n",
    "\n",
    "However, we recommend getting up to speed with python using the numerous availble online resources."
   ]
  },
  {
   "cell_type": "markdown",
   "metadata": {
    "slideshow": {
     "slide_type": "fragment"
    }
   },
   "source": [
    "If you have previous knowledge in Matlab,\n",
    "we recommend the [numpy for Matlab users](https://docs.scipy.org/doc/numpy-1.15.0/user/numpy-for-matlab-users.html) page as a useful resource."
   ]
  },
  {
   "cell_type": "markdown",
   "metadata": {
    "slideshow": {
     "slide_type": "skip"
    }
   },
   "source": [
    "Credit: Parts of the Python tutorial here were adapted from the [CS231n Python tutorial](http://cs231n.github.io/python-numpy-tutorial/) by Justin Johnson."
   ]
  },
  {
   "cell_type": "markdown",
   "metadata": {
    "slideshow": {
     "slide_type": "slide"
    }
   },
   "source": [
    "## Environment setup"
   ]
  },
  {
   "cell_type": "markdown",
   "metadata": {
    "slideshow": {
     "slide_type": "subslide"
    }
   },
   "source": [
    "To install and manage all the necessary packages and dependencies for the\n",
    "course tutorials and assignments, we use [conda](https://conda.io), a popular package-manager for python.\n",
    "\n",
    "- The tutorial notebooks and homework assignments come with an `environment.yml` file which defines which third-party libraries we depend on.\n",
    "- Conda will use this file to create a virtual environment for you.\n",
    "- This virtual environment includes python and all other packages and tools we specified, separated from any preexisting\n",
    "python installation you may have."
   ]
  },
  {
   "cell_type": "markdown",
   "metadata": {
    "slideshow": {
     "slide_type": "subslide"
    }
   },
   "source": [
    "### Installation\n",
    "\n",
    "1. Install the python3 version of [miniconda](https://conda.io/miniconda.html).\n",
    "Follow the [installation instructions](https://conda.io/docs/user-guide/install/index.html)\n",
    "for your platform.\n",
    "\n",
    "2. Install all dependencies (into a virtual env) with `conda`:\n",
    "\n",
    "    ```shell\n",
    "    conda env update -f environment.yml\n",
    "    ```\n",
    "    \n",
    "    This will also create a new virtual env (`cs236781-tutorials`) if it doesn't already exist.\n",
    "\n",
    "3. To activate the virtual environment (set up `$PATH`):\n",
    "\n",
    "    ```shell\n",
    "    conda activate cs236781-tutorials\n",
    "    ```"
   ]
  },
  {
   "cell_type": "markdown",
   "metadata": {
    "slideshow": {
     "slide_type": "subslide"
    }
   },
   "source": [
    "You can also check what conda environments you have and which is active, run\n",
    "\n",
    "```shell\n",
    "conda env list\n",
    "```"
   ]
  },
  {
   "cell_type": "markdown",
   "metadata": {},
   "source": [
    "#### Short demo of environment setup\n",
    "\n",
    "We'll now do a quick demo of the environment installation and working with `conda`, since usually there are many questions about this."
   ]
  },
  {
   "cell_type": "markdown",
   "metadata": {
    "slideshow": {
     "slide_type": "subslide"
    }
   },
   "source": [
    "### Running Jupyter\n",
    "\n",
    "From a terminal, enter the folder contaning the tutorial notebooks.\n",
    "1. Make sure that the active conda environment is `cs236781-tutorials`:\n",
    "\n",
    "    ```shell\n",
    "    conda activate cs236781-tutorials\n",
    "    ```\n",
    "\n",
    "2. Run jupyter with\n",
    "\n",
    "    ```shell\n",
    "    jupyter lab\n",
    "    ```\n",
    "    \n",
    "    This will start a [jupyter lab](https://jupyterlab.readthedocs.io/en/stable/)\n",
    "    server and open your browser at the local server's url. You can now start working with the notebooks.\n",
    "\n",
    "If you're new to jupyter notebooks, you can get started by reading the\n",
    "[UI guide](https://jupyter-notebook.readthedocs.io/en/stable/notebook.html#notebook-user-interface)\n",
    "and also about how to use notebooks in\n",
    "[JupyterLab](https://jupyterlab.readthedocs.io/en/latest/user/notebook.html)."
   ]
  },
  {
   "cell_type": "markdown",
   "metadata": {
    "slideshow": {
     "slide_type": "subslide"
    }
   },
   "source": [
    "**Important Note**: The course homework and tutorials use **different** conda envs! Make sure to use the correct one each time."
   ]
  },
  {
   "cell_type": "markdown",
   "metadata": {
    "slideshow": {
     "slide_type": "subslide"
    }
   },
   "source": [
    "#### Jupyter basics\n",
    "\n",
    "Jupyter notebooks consist mainly of code and markdown cells.\n",
    "The code cells contain code that is run by a `kernel`, an\n",
    "interpreter for some programming language, python in our case."
   ]
  },
  {
   "cell_type": "code",
   "execution_count": 1,
   "metadata": {
    "execution": {
     "iopub.execute_input": "2021-05-06T06:05:18.226984Z",
     "iopub.status.busy": "2021-05-06T06:05:18.223098Z",
     "iopub.status.idle": "2021-05-06T06:05:18.248442Z",
     "shell.execute_reply": "2021-05-06T06:05:18.249098Z"
    },
    "slideshow": {
     "slide_type": "subslide"
    }
   },
   "outputs": [
    {
     "name": "stdout",
     "output_type": "stream",
     "text": [
      "bar\n"
     ]
    },
    {
     "data": {
      "text/plain": [
       "42"
      ]
     },
     "execution_count": 1,
     "metadata": {},
     "output_type": "execute_result"
    }
   ],
   "source": [
    "# This is a code cell; it can contain arbitrary python code.\n",
    "\n",
    "foo = 'bar'\n",
    "print(foo)\n",
    "\n",
    "def the_answer():\n",
    "    return 42\n",
    "\n",
    "# The output of the last expression in a cell is shown\n",
    "2*the_answer()\n",
    "the_answer()"
   ]
  },
  {
   "cell_type": "markdown",
   "metadata": {
    "slideshow": {
     "slide_type": "subslide"
    }
   },
   "source": [
    "Variables and functions defined in a code cell are available in subsequent cells."
   ]
  },
  {
   "cell_type": "code",
   "execution_count": 2,
   "metadata": {
    "execution": {
     "iopub.execute_input": "2021-05-06T06:05:18.252573Z",
     "iopub.status.busy": "2021-05-06T06:05:18.252031Z",
     "iopub.status.idle": "2021-05-06T06:05:18.265818Z",
     "shell.execute_reply": "2021-05-06T06:05:18.266414Z"
    },
    "slideshow": {
     "slide_type": "fragment"
    }
   },
   "outputs": [],
   "source": [
    "ans = the_answer()"
   ]
  },
  {
   "cell_type": "code",
   "execution_count": 3,
   "metadata": {
    "execution": {
     "iopub.execute_input": "2021-05-06T06:05:18.269994Z",
     "iopub.status.busy": "2021-05-06T06:05:18.269421Z",
     "iopub.status.idle": "2021-05-06T06:05:18.283489Z",
     "shell.execute_reply": "2021-05-06T06:05:18.284047Z"
    },
    "slideshow": {
     "slide_type": "fragment"
    }
   },
   "outputs": [
    {
     "data": {
      "text/plain": [
       "42"
      ]
     },
     "execution_count": 1,
     "metadata": {},
     "output_type": "execute_result"
    }
   ],
   "source": [
    "ans"
   ]
  },
  {
   "cell_type": "markdown",
   "metadata": {
    "slideshow": {
     "slide_type": "subslide"
    }
   },
   "source": [
    "This is a markdown cell. You can use markdown syntax to format your text, and also include equations\n",
    "written in $\\LaTeX$:\n",
    "\n",
    "$$\n",
    "e^{i\\pi} - 1 = 0\n",
    "$$"
   ]
  },
  {
   "cell_type": "markdown",
   "metadata": {
    "slideshow": {
     "slide_type": "subslide"
    }
   },
   "source": [
    "Other useful things to know about:\n",
    "* Opening a console for notebook\n",
    "* Restarting kernel\n",
    "* Magics"
   ]
  },
  {
   "cell_type": "code",
   "execution_count": 4,
   "metadata": {
    "execution": {
     "iopub.execute_input": "2021-05-06T06:05:18.288086Z",
     "iopub.status.busy": "2021-05-06T06:05:18.287587Z",
     "iopub.status.idle": "2021-05-06T06:05:18.885980Z",
     "shell.execute_reply": "2021-05-06T06:05:18.886670Z"
    },
    "slideshow": {
     "slide_type": "fragment"
    }
   },
   "outputs": [
    {
     "name": "stdout",
     "output_type": "stream",
     "text": [
      "The autoreload extension is already loaded. To reload it, use:\n",
      "  %reload_ext autoreload\n"
     ]
    }
   ],
   "source": [
    "%matplotlib inline\n",
    "%load_ext autoreload\n",
    "%autoreload 2"
   ]
  },
  {
   "cell_type": "code",
   "execution_count": 5,
   "metadata": {
    "execution": {
     "iopub.execute_input": "2021-05-06T06:05:18.890782Z",
     "iopub.status.busy": "2021-05-06T06:05:18.890175Z",
     "iopub.status.idle": "2021-05-06T06:05:23.325284Z",
     "shell.execute_reply": "2021-05-06T06:05:23.324802Z"
    },
    "slideshow": {
     "slide_type": "fragment"
    }
   },
   "outputs": [
    {
     "name": "stdout",
     "output_type": "stream",
     "text": [
      "54.2 ns ± 1.23 ns per loop (mean ± std. dev. of 7 runs, 10000000 loops each)\n"
     ]
    }
   ],
   "source": [
    "%timeit the_answer()"
   ]
  },
  {
   "cell_type": "markdown",
   "metadata": {
    "slideshow": {
     "slide_type": "slide"
    },
    "toc-hr-collapsed": true,
    "toc-nb-collapsed": true
   },
   "source": [
    "## Basics of Python"
   ]
  },
  {
   "cell_type": "markdown",
   "metadata": {
    "slideshow": {
     "slide_type": "subslide"
    }
   },
   "source": [
    "Python is a high-level, dynamically typed multiparadigm programming language. Python code is often said to be almost like pseudocode, since it allows you to express very powerful ideas in very few lines of code while being very readable. As an example, here is an implementation of the classic quicksort algorithm in Python:"
   ]
  },
  {
   "cell_type": "code",
   "execution_count": 6,
   "metadata": {
    "execution": {
     "iopub.execute_input": "2021-05-06T06:05:23.329569Z",
     "iopub.status.busy": "2021-05-06T06:05:23.329104Z",
     "iopub.status.idle": "2021-05-06T06:05:23.344581Z",
     "shell.execute_reply": "2021-05-06T06:05:23.345118Z"
    },
    "jupyter": {
     "outputs_hidden": false
    },
    "slideshow": {
     "slide_type": "fragment"
    }
   },
   "outputs": [
    {
     "name": "stdout",
     "output_type": "stream",
     "text": [
      "[1, 1, 2, 3, 6, 8, 10]\n"
     ]
    }
   ],
   "source": [
    "def quicksort(arr):\n",
    "    if len(arr) <= 1:\n",
    "        return arr\n",
    "    pivot = arr[len(arr) // 2]\n",
    "    left = [x for x in arr if x < pivot]\n",
    "    middle = [x for x in arr if x == pivot]\n",
    "    right = [x for x in arr if x > pivot]\n",
    "    return quicksort(left) + middle + quicksort(right)\n",
    "\n",
    "print(quicksort([3,6,8,10,1,2,1]))"
   ]
  },
  {
   "cell_type": "markdown",
   "metadata": {
    "slideshow": {
     "slide_type": "fragment"
    }
   },
   "source": [
    "Python has great [documentation](https://docs.python.org/3)! Use it often."
   ]
  },
  {
   "cell_type": "markdown",
   "metadata": {
    "slideshow": {
     "slide_type": "subslide"
    }
   },
   "source": [
    "### Packages and modules"
   ]
  },
  {
   "cell_type": "markdown",
   "metadata": {
    "slideshow": {
     "slide_type": "fragment"
    }
   },
   "source": [
    "A python **module** is simply a python file (`.py`), which can contain functions, classes and even top-level code.\n",
    "\n",
    "A **package** is a collection of modules within a directory. Python comes with a standard library which\n",
    "includes many useful packages.\n",
    "\n",
    "A package must be imported before use. They can be imported like so:"
   ]
  },
  {
   "cell_type": "code",
   "execution_count": 7,
   "metadata": {
    "execution": {
     "iopub.execute_input": "2021-05-06T06:05:23.348212Z",
     "iopub.status.busy": "2021-05-06T06:05:23.347740Z",
     "iopub.status.idle": "2021-05-06T06:05:23.363207Z",
     "shell.execute_reply": "2021-05-06T06:05:23.363720Z"
    }
   },
   "outputs": [],
   "source": [
    "# Import packages from the python standard library\n",
    "import math\n",
    "import sys"
   ]
  },
  {
   "cell_type": "markdown",
   "metadata": {},
   "source": [
    "Additionally, we can define our own packages and modules. This tutorial comes with a `demo_package`\n",
    "which includes a `demo_module`.\n",
    "\n",
    "Any object can be imported from a module like so:"
   ]
  },
  {
   "cell_type": "code",
   "execution_count": 8,
   "metadata": {
    "execution": {
     "iopub.execute_input": "2021-05-06T06:05:23.366796Z",
     "iopub.status.busy": "2021-05-06T06:05:23.366317Z",
     "iopub.status.idle": "2021-05-06T06:05:23.393884Z",
     "shell.execute_reply": "2021-05-06T06:05:23.394593Z"
    }
   },
   "outputs": [
    {
     "name": "stdout",
     "output_type": "stream",
     "text": [
      "this is a demo, a=17\n",
      "this is a demo, a=3.141592653589793\n",
      "FOO\n"
     ]
    }
   ],
   "source": [
    "# Import just a specific function from a specific module from a specific package\n",
    "from demo_package.demo_module import demo_func\n",
    "\n",
    "demo_func(math.pi)\n",
    "print('FOO', file=sys.stdout)"
   ]
  },
  {
   "cell_type": "markdown",
   "metadata": {},
   "source": [
    "### Basic data types"
   ]
  },
  {
   "cell_type": "markdown",
   "metadata": {},
   "source": [
    "#### Numbers"
   ]
  },
  {
   "cell_type": "markdown",
   "metadata": {},
   "source": [
    "Integers and floats work as you would expect from other languages:"
   ]
  },
  {
   "cell_type": "code",
   "execution_count": 9,
   "metadata": {
    "execution": {
     "iopub.execute_input": "2021-05-06T06:05:23.398442Z",
     "iopub.status.busy": "2021-05-06T06:05:23.397873Z",
     "iopub.status.idle": "2021-05-06T06:05:23.414147Z",
     "shell.execute_reply": "2021-05-06T06:05:23.414656Z"
    },
    "jupyter": {
     "outputs_hidden": false
    }
   },
   "outputs": [
    {
     "name": "stdout",
     "output_type": "stream",
     "text": [
      "3 <class 'int'>\n"
     ]
    }
   ],
   "source": [
    "x = 3\n",
    "print(x, type(x))"
   ]
  },
  {
   "cell_type": "code",
   "execution_count": 10,
   "metadata": {
    "execution": {
     "iopub.execute_input": "2021-05-06T06:05:23.417534Z",
     "iopub.status.busy": "2021-05-06T06:05:23.417054Z",
     "iopub.status.idle": "2021-05-06T06:05:23.432142Z",
     "shell.execute_reply": "2021-05-06T06:05:23.432654Z"
    },
    "jupyter": {
     "outputs_hidden": false
    }
   },
   "outputs": [
    {
     "name": "stdout",
     "output_type": "stream",
     "text": [
      "4\n",
      "2\n",
      "6\n",
      "9\n"
     ]
    }
   ],
   "source": [
    "print(x + 1)  # Addition;\n",
    "print(x - 1)  # Subtraction;\n",
    "print(x * 2)  # Multiplication;\n",
    "print(x ** 2)  # Exponentiation;"
   ]
  },
  {
   "cell_type": "code",
   "execution_count": 11,
   "metadata": {
    "execution": {
     "iopub.execute_input": "2021-05-06T06:05:23.435469Z",
     "iopub.status.busy": "2021-05-06T06:05:23.434977Z",
     "iopub.status.idle": "2021-05-06T06:05:23.450613Z",
     "shell.execute_reply": "2021-05-06T06:05:23.450073Z"
    },
    "jupyter": {
     "outputs_hidden": false
    }
   },
   "outputs": [
    {
     "name": "stdout",
     "output_type": "stream",
     "text": [
      "4\n",
      "8\n"
     ]
    }
   ],
   "source": [
    "x += 1\n",
    "print(x)\n",
    "x *= 2\n",
    "print(x)"
   ]
  },
  {
   "cell_type": "code",
   "execution_count": 12,
   "metadata": {
    "execution": {
     "iopub.execute_input": "2021-05-06T06:05:23.453797Z",
     "iopub.status.busy": "2021-05-06T06:05:23.453210Z",
     "iopub.status.idle": "2021-05-06T06:05:23.468460Z",
     "shell.execute_reply": "2021-05-06T06:05:23.469010Z"
    },
    "jupyter": {
     "outputs_hidden": false
    }
   },
   "outputs": [
    {
     "name": "stdout",
     "output_type": "stream",
     "text": [
      "<class 'float'>\n",
      "2.5 3.5 5.0 6.25 1.25 1.0\n"
     ]
    }
   ],
   "source": [
    "y = 2.5\n",
    "print(type(y))\n",
    "print(y, y + 1, y * 2, y ** 2, y / 2, y // 2)"
   ]
  },
  {
   "cell_type": "markdown",
   "metadata": {},
   "source": [
    "Note that unlike many languages, Python does not have unary increment (x++) or decrement (x--) operators.\n",
    "\n",
    "Python also has built-in types for long integers and complex numbers; you can find all of the details in the [documentation](https://docs.python.org/3/library/stdtypes.html#numeric-types-int-float-long-complex)."
   ]
  },
  {
   "cell_type": "markdown",
   "metadata": {},
   "source": [
    "#### Booleans"
   ]
  },
  {
   "cell_type": "markdown",
   "metadata": {},
   "source": [
    "Python implements all of the usual operators for Boolean logic, but uses English words rather than symbols (`&&`, `||`, etc.):"
   ]
  },
  {
   "cell_type": "code",
   "execution_count": 13,
   "metadata": {
    "execution": {
     "iopub.execute_input": "2021-05-06T06:05:23.471999Z",
     "iopub.status.busy": "2021-05-06T06:05:23.471528Z",
     "iopub.status.idle": "2021-05-06T06:05:23.488288Z",
     "shell.execute_reply": "2021-05-06T06:05:23.487719Z"
    },
    "jupyter": {
     "outputs_hidden": false
    }
   },
   "outputs": [],
   "source": [
    "t, f = True, False"
   ]
  },
  {
   "cell_type": "markdown",
   "metadata": {},
   "source": [
    "Now we let's look at the operations:"
   ]
  },
  {
   "cell_type": "code",
   "execution_count": 14,
   "metadata": {
    "execution": {
     "iopub.execute_input": "2021-05-06T06:05:23.491387Z",
     "iopub.status.busy": "2021-05-06T06:05:23.490904Z",
     "iopub.status.idle": "2021-05-06T06:05:23.506827Z",
     "shell.execute_reply": "2021-05-06T06:05:23.507636Z"
    },
    "jupyter": {
     "outputs_hidden": false
    }
   },
   "outputs": [
    {
     "name": "stdout",
     "output_type": "stream",
     "text": [
      "False\n",
      "True\n",
      "False\n",
      "True\n"
     ]
    }
   ],
   "source": [
    "print(t and f) # Logical AND\n",
    "print(t or f ) # Logical OR\n",
    "print(not t  ) # Logical NOT\n",
    "print(t != f ) # Logical XOR"
   ]
  },
  {
   "cell_type": "markdown",
   "metadata": {},
   "source": [
    "#### Strings"
   ]
  },
  {
   "cell_type": "code",
   "execution_count": 15,
   "metadata": {
    "execution": {
     "iopub.execute_input": "2021-05-06T06:05:23.510605Z",
     "iopub.status.busy": "2021-05-06T06:05:23.510111Z",
     "iopub.status.idle": "2021-05-06T06:05:23.526008Z",
     "shell.execute_reply": "2021-05-06T06:05:23.526567Z"
    },
    "jupyter": {
     "outputs_hidden": false
    }
   },
   "outputs": [
    {
     "data": {
      "text/plain": [
       "('hello', 5)"
      ]
     },
     "execution_count": 1,
     "metadata": {},
     "output_type": "execute_result"
    }
   ],
   "source": [
    "hello = 'hello'   # String literals can use single quotes\n",
    "world = \"world\"   # or double quotes; it does not matter.\n",
    "hello, len(hello)"
   ]
  },
  {
   "cell_type": "code",
   "execution_count": 16,
   "metadata": {
    "execution": {
     "iopub.execute_input": "2021-05-06T06:05:23.529226Z",
     "iopub.status.busy": "2021-05-06T06:05:23.528750Z",
     "iopub.status.idle": "2021-05-06T06:05:23.544874Z",
     "shell.execute_reply": "2021-05-06T06:05:23.545393Z"
    },
    "jupyter": {
     "outputs_hidden": false
    }
   },
   "outputs": [
    {
     "data": {
      "text/plain": [
       "'aaa bbb'"
      ]
     },
     "execution_count": 1,
     "metadata": {},
     "output_type": "execute_result"
    }
   ],
   "source": [
    "# String concatenation\n",
    "'aaa ' + 'bbb'"
   ]
  },
  {
   "cell_type": "markdown",
   "metadata": {},
   "source": [
    "There are several way to created formatted strings, here are a couple:"
   ]
  },
  {
   "cell_type": "code",
   "execution_count": 17,
   "metadata": {
    "execution": {
     "iopub.execute_input": "2021-05-06T06:05:23.548676Z",
     "iopub.status.busy": "2021-05-06T06:05:23.548211Z",
     "iopub.status.idle": "2021-05-06T06:05:23.563866Z",
     "shell.execute_reply": "2021-05-06T06:05:23.564743Z"
    }
   },
   "outputs": [
    {
     "name": "stdout",
     "output_type": "stream",
     "text": [
      "hello [1, 2, 3]: pi=3.14159\n",
      "hello [1, 2, 3]: pi=3.14159\n"
     ]
    }
   ],
   "source": [
    "s = 'hello'\n",
    "a = [1,2,3]\n",
    "\n",
    "# sprintf style string formatting\n",
    "print('%s %s: pi=%.5f' % (s, a, math.pi))\n",
    "\n",
    "# formatting with f-string literals (python 3.6+)\n",
    "print(f'{s} {a}: pi={math.pi:.5f}')"
   ]
  },
  {
   "cell_type": "markdown",
   "metadata": {},
   "source": [
    "String objects have a bunch of useful methods; for example:"
   ]
  },
  {
   "cell_type": "code",
   "execution_count": 18,
   "metadata": {
    "execution": {
     "iopub.execute_input": "2021-05-06T06:05:23.568595Z",
     "iopub.status.busy": "2021-05-06T06:05:23.568106Z",
     "iopub.status.idle": "2021-05-06T06:05:23.583330Z",
     "shell.execute_reply": "2021-05-06T06:05:23.583849Z"
    },
    "jupyter": {
     "outputs_hidden": false
    }
   },
   "outputs": [
    {
     "name": "stdout",
     "output_type": "stream",
     "text": [
      "Hello\n",
      "HELLO\n",
      "  hello\n",
      " hello \n",
      "he(ell)(ell)o\n",
      "world\n"
     ]
    }
   ],
   "source": [
    "s = \"hello\"\n",
    "print(s.capitalize() ) # Capitalize a string; prints \"Hello\"\n",
    "print(s.upper()      ) # Convert a string to uppercase; prints \"HELLO\"\n",
    "print(s.rjust(7)     ) # Right-justify a string, padding with spaces; prints \"  hello\"\n",
    "print(s.center(7)    ) # Center a string, padding with spaces; prints \" hello \"\n",
    "print(s.replace('l', '(ell)'))  # Replace all instances of one substring with another\n",
    "print('  world '.strip())  # Strip leading and trailing whitespace; prints \"world\""
   ]
  },
  {
   "cell_type": "markdown",
   "metadata": {},
   "source": [
    "You can find a list of all string methods in the [documentation](https://docs.python.org/3/library/stdtypes.html#string-methods)."
   ]
  },
  {
   "cell_type": "markdown",
   "metadata": {},
   "source": [
    "### Containers"
   ]
  },
  {
   "cell_type": "markdown",
   "metadata": {},
   "source": [
    "Python includes several built-in container types: lists, dictionaries, sets, and tuples."
   ]
  },
  {
   "cell_type": "markdown",
   "metadata": {},
   "source": [
    "#### Lists"
   ]
  },
  {
   "cell_type": "markdown",
   "metadata": {},
   "source": [
    "A list is the Python equivalent of an array, but is resizeable and can contain elements of different types:"
   ]
  },
  {
   "cell_type": "code",
   "execution_count": 19,
   "metadata": {
    "execution": {
     "iopub.execute_input": "2021-05-06T06:05:23.587180Z",
     "iopub.status.busy": "2021-05-06T06:05:23.586709Z",
     "iopub.status.idle": "2021-05-06T06:05:23.605187Z",
     "shell.execute_reply": "2021-05-06T06:05:23.605708Z"
    },
    "jupyter": {
     "outputs_hidden": false
    }
   },
   "outputs": [
    {
     "name": "stdout",
     "output_type": "stream",
     "text": [
      "[3, 1, 2]\n",
      "2 2\n"
     ]
    }
   ],
   "source": [
    "xs = [3, 1, 2]   # Create a list\n",
    "print(xs)\n",
    "print(xs[2], xs[-1]) # Negative indices count from the end of the list; prints \"2\""
   ]
  },
  {
   "cell_type": "code",
   "execution_count": 20,
   "metadata": {
    "execution": {
     "iopub.execute_input": "2021-05-06T06:05:23.608593Z",
     "iopub.status.busy": "2021-05-06T06:05:23.608079Z",
     "iopub.status.idle": "2021-05-06T06:05:23.623519Z",
     "shell.execute_reply": "2021-05-06T06:05:23.624019Z"
    },
    "jupyter": {
     "outputs_hidden": false
    }
   },
   "outputs": [
    {
     "name": "stdout",
     "output_type": "stream",
     "text": [
      "[3, 1, 'foo']\n"
     ]
    }
   ],
   "source": [
    "xs[2] = 'foo'    # Lists can contain elements of different types\n",
    "print(xs)"
   ]
  },
  {
   "cell_type": "code",
   "execution_count": 21,
   "metadata": {
    "execution": {
     "iopub.execute_input": "2021-05-06T06:05:23.627000Z",
     "iopub.status.busy": "2021-05-06T06:05:23.626537Z",
     "iopub.status.idle": "2021-05-06T06:05:23.643941Z",
     "shell.execute_reply": "2021-05-06T06:05:23.644456Z"
    },
    "jupyter": {
     "outputs_hidden": false
    }
   },
   "outputs": [
    {
     "name": "stdout",
     "output_type": "stream",
     "text": [
      "[3, 1, 'foo', 'bar']\n"
     ]
    }
   ],
   "source": [
    "xs.append('bar') # Add a new element to the end of the list\n",
    "print(xs)"
   ]
  },
  {
   "cell_type": "code",
   "execution_count": 22,
   "metadata": {
    "execution": {
     "iopub.execute_input": "2021-05-06T06:05:23.647346Z",
     "iopub.status.busy": "2021-05-06T06:05:23.646859Z",
     "iopub.status.idle": "2021-05-06T06:05:23.663380Z",
     "shell.execute_reply": "2021-05-06T06:05:23.663902Z"
    },
    "jupyter": {
     "outputs_hidden": false
    }
   },
   "outputs": [
    {
     "data": {
      "text/plain": [
       "('bar', [3, 1, 'foo'])"
      ]
     },
     "execution_count": 1,
     "metadata": {},
     "output_type": "execute_result"
    }
   ],
   "source": [
    "x = xs.pop()     # Remove and return the last element of the list\n",
    "x, xs"
   ]
  },
  {
   "cell_type": "markdown",
   "metadata": {},
   "source": [
    "#### Slicing"
   ]
  },
  {
   "cell_type": "markdown",
   "metadata": {},
   "source": [
    "In addition to accessing list elements one at a time, Python provides concise syntax to access sublists; this is known as slicing:"
   ]
  },
  {
   "cell_type": "code",
   "execution_count": 23,
   "metadata": {
    "execution": {
     "iopub.execute_input": "2021-05-06T06:05:23.666851Z",
     "iopub.status.busy": "2021-05-06T06:05:23.666368Z",
     "iopub.status.idle": "2021-05-06T06:05:23.682364Z",
     "shell.execute_reply": "2021-05-06T06:05:23.682867Z"
    },
    "jupyter": {
     "outputs_hidden": false
    }
   },
   "outputs": [
    {
     "data": {
      "text/plain": [
       "[0, 1, 2, 3, 4]"
      ]
     },
     "execution_count": 1,
     "metadata": {},
     "output_type": "execute_result"
    }
   ],
   "source": [
    "nums = list(range(5))\n",
    "nums"
   ]
  },
  {
   "cell_type": "code",
   "execution_count": 24,
   "metadata": {
    "execution": {
     "iopub.execute_input": "2021-05-06T06:05:23.685739Z",
     "iopub.status.busy": "2021-05-06T06:05:23.685254Z",
     "iopub.status.idle": "2021-05-06T06:05:23.701357Z",
     "shell.execute_reply": "2021-05-06T06:05:23.701865Z"
    },
    "jupyter": {
     "outputs_hidden": false
    }
   },
   "outputs": [
    {
     "data": {
      "text/plain": [
       "[2, 3]"
      ]
     },
     "execution_count": 1,
     "metadata": {},
     "output_type": "execute_result"
    }
   ],
   "source": [
    "nums[2:4]    # Get a slice from index 2 to 4 (exclusive)"
   ]
  },
  {
   "cell_type": "code",
   "execution_count": 25,
   "metadata": {
    "execution": {
     "iopub.execute_input": "2021-05-06T06:05:23.704928Z",
     "iopub.status.busy": "2021-05-06T06:05:23.704406Z",
     "iopub.status.idle": "2021-05-06T06:05:23.721331Z",
     "shell.execute_reply": "2021-05-06T06:05:23.721848Z"
    },
    "jupyter": {
     "outputs_hidden": false
    }
   },
   "outputs": [
    {
     "data": {
      "text/plain": [
       "[2, 3, 4]"
      ]
     },
     "execution_count": 1,
     "metadata": {},
     "output_type": "execute_result"
    }
   ],
   "source": [
    "nums[2:]     # Get a slice from index 2 to the end"
   ]
  },
  {
   "cell_type": "code",
   "execution_count": 26,
   "metadata": {
    "execution": {
     "iopub.execute_input": "2021-05-06T06:05:23.724800Z",
     "iopub.status.busy": "2021-05-06T06:05:23.724164Z",
     "iopub.status.idle": "2021-05-06T06:05:23.764881Z",
     "shell.execute_reply": "2021-05-06T06:05:23.764186Z"
    },
    "jupyter": {
     "outputs_hidden": false
    }
   },
   "outputs": [
    {
     "data": {
      "text/plain": [
       "[0, 1]"
      ]
     },
     "execution_count": 1,
     "metadata": {},
     "output_type": "execute_result"
    }
   ],
   "source": [
    "nums[:2]     # Get a slice from the start to index 2 (exclusive)"
   ]
  },
  {
   "cell_type": "code",
   "execution_count": 27,
   "metadata": {
    "execution": {
     "iopub.execute_input": "2021-05-06T06:05:23.768319Z",
     "iopub.status.busy": "2021-05-06T06:05:23.767701Z",
     "iopub.status.idle": "2021-05-06T06:05:23.787875Z",
     "shell.execute_reply": "2021-05-06T06:05:23.788479Z"
    },
    "jupyter": {
     "outputs_hidden": false
    }
   },
   "outputs": [
    {
     "data": {
      "text/plain": [
       "[0, 1, 2, 3, 4]"
      ]
     },
     "execution_count": 1,
     "metadata": {},
     "output_type": "execute_result"
    }
   ],
   "source": [
    "nums[:]      # Get a slice of the whole list"
   ]
  },
  {
   "cell_type": "code",
   "execution_count": 28,
   "metadata": {
    "execution": {
     "iopub.execute_input": "2021-05-06T06:05:23.792040Z",
     "iopub.status.busy": "2021-05-06T06:05:23.791466Z",
     "iopub.status.idle": "2021-05-06T06:05:23.808089Z",
     "shell.execute_reply": "2021-05-06T06:05:23.808639Z"
    },
    "jupyter": {
     "outputs_hidden": false
    }
   },
   "outputs": [
    {
     "data": {
      "text/plain": [
       "[0, 1, 2, 3]"
      ]
     },
     "execution_count": 1,
     "metadata": {},
     "output_type": "execute_result"
    }
   ],
   "source": [
    "nums[:-1]    # Slice indices can be negative"
   ]
  },
  {
   "cell_type": "code",
   "execution_count": 29,
   "metadata": {
    "execution": {
     "iopub.execute_input": "2021-05-06T06:05:23.811396Z",
     "iopub.status.busy": "2021-05-06T06:05:23.810919Z",
     "iopub.status.idle": "2021-05-06T06:05:23.826568Z",
     "shell.execute_reply": "2021-05-06T06:05:23.827126Z"
    }
   },
   "outputs": [
    {
     "data": {
      "text/plain": [
       "[0, 2]"
      ]
     },
     "execution_count": 1,
     "metadata": {},
     "output_type": "execute_result"
    }
   ],
   "source": [
    "nums[0:4:2]  # Can also specify slice step size"
   ]
  },
  {
   "cell_type": "code",
   "execution_count": 30,
   "metadata": {
    "execution": {
     "iopub.execute_input": "2021-05-06T06:05:23.829953Z",
     "iopub.status.busy": "2021-05-06T06:05:23.829468Z",
     "iopub.status.idle": "2021-05-06T06:05:23.845822Z",
     "shell.execute_reply": "2021-05-06T06:05:23.846334Z"
    },
    "jupyter": {
     "outputs_hidden": false
    }
   },
   "outputs": [
    {
     "data": {
      "text/plain": [
       "[0, 1, 8, 9, 4]"
      ]
     },
     "execution_count": 1,
     "metadata": {},
     "output_type": "execute_result"
    }
   ],
   "source": [
    "nums[2:4] = [8, 9] # Assign a new sublist to a slice\n",
    "nums"
   ]
  },
  {
   "cell_type": "code",
   "execution_count": 31,
   "metadata": {
    "execution": {
     "iopub.execute_input": "2021-05-06T06:05:23.849195Z",
     "iopub.status.busy": "2021-05-06T06:05:23.848717Z",
     "iopub.status.idle": "2021-05-06T06:05:23.864164Z",
     "shell.execute_reply": "2021-05-06T06:05:23.864716Z"
    }
   },
   "outputs": [
    {
     "data": {
      "text/plain": [
       "[1, 8, 9]"
      ]
     },
     "execution_count": 1,
     "metadata": {},
     "output_type": "execute_result"
    }
   ],
   "source": [
    "# Delete elements from a list\n",
    "nums[0:1] = []\n",
    "del nums[-1]\n",
    "nums"
   ]
  },
  {
   "cell_type": "markdown",
   "metadata": {},
   "source": [
    "#### Loops"
   ]
  },
  {
   "cell_type": "markdown",
   "metadata": {},
   "source": [
    "You can loop over the elements of a list like this:"
   ]
  },
  {
   "cell_type": "code",
   "execution_count": 32,
   "metadata": {
    "execution": {
     "iopub.execute_input": "2021-05-06T06:05:23.867704Z",
     "iopub.status.busy": "2021-05-06T06:05:23.867207Z",
     "iopub.status.idle": "2021-05-06T06:05:23.882599Z",
     "shell.execute_reply": "2021-05-06T06:05:23.883122Z"
    },
    "jupyter": {
     "outputs_hidden": false
    }
   },
   "outputs": [
    {
     "name": "stdout",
     "output_type": "stream",
     "text": [
      "cat\n",
      "dog\n",
      "monkey\n"
     ]
    }
   ],
   "source": [
    "animals = ['cat', 'dog', 'monkey']\n",
    "for animal in animals:\n",
    "    print(animal)"
   ]
  },
  {
   "cell_type": "markdown",
   "metadata": {},
   "source": [
    "If you want access to the index of each element within the body of a loop, use the built-in `enumerate` function:"
   ]
  },
  {
   "cell_type": "code",
   "execution_count": 33,
   "metadata": {
    "execution": {
     "iopub.execute_input": "2021-05-06T06:05:23.886133Z",
     "iopub.status.busy": "2021-05-06T06:05:23.885650Z",
     "iopub.status.idle": "2021-05-06T06:05:23.900892Z",
     "shell.execute_reply": "2021-05-06T06:05:23.901447Z"
    },
    "jupyter": {
     "outputs_hidden": false
    }
   },
   "outputs": [
    {
     "name": "stdout",
     "output_type": "stream",
     "text": [
      "#1: cat\n",
      "#2: dog\n",
      "#3: monkey\n"
     ]
    }
   ],
   "source": [
    "animals = ['cat', 'dog', 'monkey']\n",
    "for idx, animal in enumerate(animals):\n",
    "    print(f'#{idx+1}: {animal}')"
   ]
  },
  {
   "cell_type": "markdown",
   "metadata": {},
   "source": [
    "#### List comprehensions"
   ]
  },
  {
   "cell_type": "markdown",
   "metadata": {},
   "source": [
    "When programming, frequently we want to transform one type of data into another. As a simple example, consider the following code that computes square numbers:"
   ]
  },
  {
   "cell_type": "code",
   "execution_count": 34,
   "metadata": {
    "execution": {
     "iopub.execute_input": "2021-05-06T06:05:23.904515Z",
     "iopub.status.busy": "2021-05-06T06:05:23.904030Z",
     "iopub.status.idle": "2021-05-06T06:05:23.919890Z",
     "shell.execute_reply": "2021-05-06T06:05:23.920439Z"
    },
    "jupyter": {
     "outputs_hidden": false
    }
   },
   "outputs": [
    {
     "data": {
      "text/plain": [
       "[0, 1, 4, 9, 16]"
      ]
     },
     "execution_count": 1,
     "metadata": {},
     "output_type": "execute_result"
    }
   ],
   "source": [
    "nums = [0, 1, 2, 3, 4]\n",
    "squares = []\n",
    "for x in nums:\n",
    "    squares.append(x ** 2)\n",
    "squares"
   ]
  },
  {
   "cell_type": "markdown",
   "metadata": {},
   "source": [
    "You can make this code simpler using a list comprehension:"
   ]
  },
  {
   "cell_type": "code",
   "execution_count": 35,
   "metadata": {
    "execution": {
     "iopub.execute_input": "2021-05-06T06:05:23.923236Z",
     "iopub.status.busy": "2021-05-06T06:05:23.922754Z",
     "iopub.status.idle": "2021-05-06T06:05:23.938770Z",
     "shell.execute_reply": "2021-05-06T06:05:23.939323Z"
    },
    "jupyter": {
     "outputs_hidden": false
    }
   },
   "outputs": [
    {
     "data": {
      "text/plain": [
       "[0, 1, 4, 9, 16]"
      ]
     },
     "execution_count": 1,
     "metadata": {},
     "output_type": "execute_result"
    }
   ],
   "source": [
    "squares = [x ** 2 for x in nums]\n",
    "squares"
   ]
  },
  {
   "cell_type": "markdown",
   "metadata": {},
   "source": [
    "List comprehensions can also contain conditions:"
   ]
  },
  {
   "cell_type": "code",
   "execution_count": 36,
   "metadata": {
    "execution": {
     "iopub.execute_input": "2021-05-06T06:05:23.942250Z",
     "iopub.status.busy": "2021-05-06T06:05:23.941770Z",
     "iopub.status.idle": "2021-05-06T06:05:23.957551Z",
     "shell.execute_reply": "2021-05-06T06:05:23.958067Z"
    },
    "jupyter": {
     "outputs_hidden": false
    }
   },
   "outputs": [
    {
     "data": {
      "text/plain": [
       "[0, 4, 16]"
      ]
     },
     "execution_count": 1,
     "metadata": {},
     "output_type": "execute_result"
    }
   ],
   "source": [
    "even_squares = [x ** 2 for x in nums if x % 2 == 0]\n",
    "even_squares"
   ]
  },
  {
   "cell_type": "markdown",
   "metadata": {},
   "source": [
    "List comprehensions can be nested:"
   ]
  },
  {
   "cell_type": "code",
   "execution_count": 37,
   "metadata": {
    "execution": {
     "iopub.execute_input": "2021-05-06T06:05:23.961273Z",
     "iopub.status.busy": "2021-05-06T06:05:23.960809Z",
     "iopub.status.idle": "2021-05-06T06:05:23.976648Z",
     "shell.execute_reply": "2021-05-06T06:05:23.977142Z"
    }
   },
   "outputs": [
    {
     "data": {
      "text/plain": [
       "[0, 0, -1, 1, -2, 2, -3, 3, -4, 4]"
      ]
     },
     "execution_count": 1,
     "metadata": {},
     "output_type": "execute_result"
    }
   ],
   "source": [
    "nums2 = [-1, 1]\n",
    "[x * y for x in nums for y in nums2]"
   ]
  },
  {
   "cell_type": "markdown",
   "metadata": {},
   "source": [
    "#### Dictionaries"
   ]
  },
  {
   "cell_type": "markdown",
   "metadata": {},
   "source": [
    "A dictionary stores (key, value) pairs. In other languages this is known as a `Map` or `Hash`."
   ]
  },
  {
   "cell_type": "code",
   "execution_count": 38,
   "metadata": {
    "execution": {
     "iopub.execute_input": "2021-05-06T06:05:23.980387Z",
     "iopub.status.busy": "2021-05-06T06:05:23.979919Z",
     "iopub.status.idle": "2021-05-06T06:05:23.994946Z",
     "shell.execute_reply": "2021-05-06T06:05:23.995481Z"
    },
    "jupyter": {
     "outputs_hidden": false
    }
   },
   "outputs": [
    {
     "name": "stdout",
     "output_type": "stream",
     "text": [
      "cute\n",
      "True\n"
     ]
    }
   ],
   "source": [
    "d = {'cat': 'cute', 'dog': 'furry'}  # Create a new dictionary with some data\n",
    "print(d['cat'])       # Get an entry from a dictionary\n",
    "print('cat' in d)     # Check if a dictionary has a given key"
   ]
  },
  {
   "cell_type": "code",
   "execution_count": 39,
   "metadata": {
    "execution": {
     "iopub.execute_input": "2021-05-06T06:05:23.998301Z",
     "iopub.status.busy": "2021-05-06T06:05:23.997812Z",
     "iopub.status.idle": "2021-05-06T06:05:24.014448Z",
     "shell.execute_reply": "2021-05-06T06:05:24.014946Z"
    },
    "jupyter": {
     "outputs_hidden": false
    }
   },
   "outputs": [
    {
     "data": {
      "text/plain": [
       "{'cat': 'cute', 'dog': 'furry', 'fish': 'wet'}"
      ]
     },
     "execution_count": 1,
     "metadata": {},
     "output_type": "execute_result"
    }
   ],
   "source": [
    "d['fish'] = 'wet'    # Set an entry in a dictionary\n",
    "d"
   ]
  },
  {
   "cell_type": "code",
   "execution_count": 40,
   "metadata": {
    "execution": {
     "iopub.execute_input": "2021-05-06T06:05:24.018093Z",
     "iopub.status.busy": "2021-05-06T06:05:24.017627Z",
     "iopub.status.idle": "2021-05-06T06:05:24.033005Z",
     "shell.execute_reply": "2021-05-06T06:05:24.033540Z"
    }
   },
   "outputs": [
    {
     "name": "stderr",
     "output_type": "stream",
     "text": [
      "'monkey'\n"
     ]
    }
   ],
   "source": [
    "# Trying to access a non-existing key raises a KeyError\n",
    "try:\n",
    "    d['monkey']\n",
    "except KeyError as e:\n",
    "    print(e, file=sys.stderr)"
   ]
  },
  {
   "cell_type": "code",
   "execution_count": 41,
   "metadata": {
    "execution": {
     "iopub.execute_input": "2021-05-06T06:05:24.036549Z",
     "iopub.status.busy": "2021-05-06T06:05:24.036079Z",
     "iopub.status.idle": "2021-05-06T06:05:24.051624Z",
     "shell.execute_reply": "2021-05-06T06:05:24.051216Z"
    },
    "jupyter": {
     "outputs_hidden": false
    }
   },
   "outputs": [
    {
     "name": "stdout",
     "output_type": "stream",
     "text": [
      "N/A\n",
      "wet\n"
     ]
    }
   ],
   "source": [
    "print(d.get('monkey', 'N/A'))  # Get an element with a default\n",
    "print(d.get('fish', 'N/A'))    # Get an element with a default"
   ]
  },
  {
   "cell_type": "code",
   "execution_count": 42,
   "metadata": {
    "execution": {
     "iopub.execute_input": "2021-05-06T06:05:24.054419Z",
     "iopub.status.busy": "2021-05-06T06:05:24.053953Z",
     "iopub.status.idle": "2021-05-06T06:05:24.070211Z",
     "shell.execute_reply": "2021-05-06T06:05:24.069717Z"
    },
    "jupyter": {
     "outputs_hidden": false
    }
   },
   "outputs": [
    {
     "data": {
      "text/plain": [
       "{'cat': 'cute', 'dog': 'furry'}"
      ]
     },
     "execution_count": 1,
     "metadata": {},
     "output_type": "execute_result"
    }
   ],
   "source": [
    "del d['fish']        # Remove an element from a dictionary\n",
    "d"
   ]
  },
  {
   "cell_type": "code",
   "execution_count": 43,
   "metadata": {
    "execution": {
     "iopub.execute_input": "2021-05-06T06:05:24.073186Z",
     "iopub.status.busy": "2021-05-06T06:05:24.072712Z",
     "iopub.status.idle": "2021-05-06T06:05:24.090470Z",
     "shell.execute_reply": "2021-05-06T06:05:24.091068Z"
    },
    "jupyter": {
     "outputs_hidden": false
    }
   },
   "outputs": [
    {
     "name": "stdout",
     "output_type": "stream",
     "text": [
      "A person has 2 legs\n",
      "A cat has 4 legs\n",
      "A spider has 8 legs\n"
     ]
    }
   ],
   "source": [
    "# Iteration over keys\n",
    "d = {'person': 2, 'cat': 4, 'spider': 8}\n",
    "for animal in d:\n",
    "    print(f'A {animal} has {d[animal]} legs')"
   ]
  },
  {
   "cell_type": "code",
   "execution_count": 44,
   "metadata": {
    "execution": {
     "iopub.execute_input": "2021-05-06T06:05:24.094539Z",
     "iopub.status.busy": "2021-05-06T06:05:24.093966Z",
     "iopub.status.idle": "2021-05-06T06:05:24.109712Z",
     "shell.execute_reply": "2021-05-06T06:05:24.110294Z"
    },
    "jupyter": {
     "outputs_hidden": false
    }
   },
   "outputs": [
    {
     "name": "stdout",
     "output_type": "stream",
     "text": [
      "A person has 2 legs\n",
      "A cat has 4 legs\n",
      "A spider has 8 legs\n"
     ]
    }
   ],
   "source": [
    "# Iterate over key-value pairs\n",
    "d = {'person': 2, 'cat': 4, 'spider': 8}\n",
    "for animal, num_legs in d.items():\n",
    "    print(f'A {animal} has {num_legs} legs')"
   ]
  },
  {
   "cell_type": "code",
   "execution_count": 45,
   "metadata": {
    "execution": {
     "iopub.execute_input": "2021-05-06T06:05:24.113238Z",
     "iopub.status.busy": "2021-05-06T06:05:24.112769Z",
     "iopub.status.idle": "2021-05-06T06:05:24.128349Z",
     "shell.execute_reply": "2021-05-06T06:05:24.128887Z"
    }
   },
   "outputs": [
    {
     "data": {
      "text/plain": [
       "{'foo': 1, 'bar': 2, 'baz': 3}"
      ]
     },
     "execution_count": 1,
     "metadata": {},
     "output_type": "execute_result"
    }
   ],
   "source": [
    "# Create a dictionary using the built-in dict() function\n",
    "dict(foo=1, bar=2, baz=3)"
   ]
  },
  {
   "cell_type": "markdown",
   "metadata": {},
   "source": [
    "#### Dictionary comprehensions"
   ]
  },
  {
   "cell_type": "markdown",
   "metadata": {},
   "source": [
    "These are similar to list comprehensions, but allow you to easily construct dictionaries. For example:"
   ]
  },
  {
   "cell_type": "code",
   "execution_count": 46,
   "metadata": {
    "execution": {
     "iopub.execute_input": "2021-05-06T06:05:24.132066Z",
     "iopub.status.busy": "2021-05-06T06:05:24.131597Z",
     "iopub.status.idle": "2021-05-06T06:05:24.147087Z",
     "shell.execute_reply": "2021-05-06T06:05:24.147628Z"
    },
    "jupyter": {
     "outputs_hidden": false
    }
   },
   "outputs": [
    {
     "data": {
      "text/plain": [
       "{0: 0, 2: 4, 4: 16}"
      ]
     },
     "execution_count": 1,
     "metadata": {},
     "output_type": "execute_result"
    }
   ],
   "source": [
    "nums = [0, 1, 2, 3, 4]\n",
    "even_num_to_square = {x: x ** 2 for x in nums if x % 2 == 0}\n",
    "even_num_to_square"
   ]
  },
  {
   "cell_type": "markdown",
   "metadata": {},
   "source": [
    "#### Sets"
   ]
  },
  {
   "cell_type": "markdown",
   "metadata": {},
   "source": [
    "A set is an unordered collection of distinct elements"
   ]
  },
  {
   "cell_type": "code",
   "execution_count": 47,
   "metadata": {
    "execution": {
     "iopub.execute_input": "2021-05-06T06:05:24.150747Z",
     "iopub.status.busy": "2021-05-06T06:05:24.150278Z",
     "iopub.status.idle": "2021-05-06T06:05:24.167357Z",
     "shell.execute_reply": "2021-05-06T06:05:24.167896Z"
    },
    "jupyter": {
     "outputs_hidden": false
    }
   },
   "outputs": [
    {
     "name": "stdout",
     "output_type": "stream",
     "text": [
      "{'cat', 'dog'}\n",
      "True\n",
      "False\n"
     ]
    }
   ],
   "source": [
    "animals = {'cat', 'dog'}\n",
    "print(animals)\n",
    "print('cat' in animals )  # Check if an element is in a set\n",
    "print('fish' in animals) # prints \"False\""
   ]
  },
  {
   "cell_type": "code",
   "execution_count": 48,
   "metadata": {
    "execution": {
     "iopub.execute_input": "2021-05-06T06:05:24.170547Z",
     "iopub.status.busy": "2021-05-06T06:05:24.170053Z",
     "iopub.status.idle": "2021-05-06T06:05:24.186380Z",
     "shell.execute_reply": "2021-05-06T06:05:24.186891Z"
    },
    "jupyter": {
     "outputs_hidden": false
    }
   },
   "outputs": [
    {
     "name": "stdout",
     "output_type": "stream",
     "text": [
      "True\n"
     ]
    },
    {
     "data": {
      "text/plain": [
       "3"
      ]
     },
     "execution_count": 1,
     "metadata": {},
     "output_type": "execute_result"
    }
   ],
   "source": [
    "animals.add('fish') # Add an element to a set\n",
    "print('fish' in animals)\n",
    "len(animals) # Number of elements in a set"
   ]
  },
  {
   "cell_type": "code",
   "execution_count": 49,
   "metadata": {
    "execution": {
     "iopub.execute_input": "2021-05-06T06:05:24.189756Z",
     "iopub.status.busy": "2021-05-06T06:05:24.189289Z",
     "iopub.status.idle": "2021-05-06T06:05:24.208366Z",
     "shell.execute_reply": "2021-05-06T06:05:24.208954Z"
    },
    "jupyter": {
     "outputs_hidden": false
    }
   },
   "outputs": [
    {
     "data": {
      "text/plain": [
       "{'cat', 'dog', 'fish'}"
      ]
     },
     "execution_count": 1,
     "metadata": {},
     "output_type": "execute_result"
    }
   ],
   "source": [
    "animals.add('cat')       # Adding an element that is already in the set does nothing\n",
    "animals"
   ]
  },
  {
   "cell_type": "markdown",
   "metadata": {},
   "source": [
    "_Loops_: Iterating over a set has the same syntax as iterating over a list; however since sets are unordered, you cannot make assumptions about the order in which you visit the elements of the set:"
   ]
  },
  {
   "cell_type": "code",
   "execution_count": 50,
   "metadata": {
    "execution": {
     "iopub.execute_input": "2021-05-06T06:05:24.212101Z",
     "iopub.status.busy": "2021-05-06T06:05:24.211605Z",
     "iopub.status.idle": "2021-05-06T06:05:24.227486Z",
     "shell.execute_reply": "2021-05-06T06:05:24.227999Z"
    },
    "jupyter": {
     "outputs_hidden": false
    }
   },
   "outputs": [
    {
     "name": "stdout",
     "output_type": "stream",
     "text": [
      "#0: cat\n",
      "#1: dog\n",
      "#2: fish\n"
     ]
    }
   ],
   "source": [
    "animals = {'cat', 'dog', 'fish'}\n",
    "for idx, animal in enumerate(animals):\n",
    "    print(f'#{idx}: {animal}')"
   ]
  },
  {
   "cell_type": "markdown",
   "metadata": {},
   "source": [
    "#### Set comprehensions"
   ]
  },
  {
   "cell_type": "markdown",
   "metadata": {},
   "source": [
    "Like lists and dictionaries, we can easily construct sets using set comprehensions:"
   ]
  },
  {
   "cell_type": "code",
   "execution_count": 51,
   "metadata": {
    "execution": {
     "iopub.execute_input": "2021-05-06T06:05:24.231295Z",
     "iopub.status.busy": "2021-05-06T06:05:24.230807Z",
     "iopub.status.idle": "2021-05-06T06:05:24.247068Z",
     "shell.execute_reply": "2021-05-06T06:05:24.247607Z"
    },
    "jupyter": {
     "outputs_hidden": false
    }
   },
   "outputs": [
    {
     "data": {
      "text/plain": [
       "{0, 1, 2, 3, 4, 5, 6}"
      ]
     },
     "execution_count": 1,
     "metadata": {},
     "output_type": "execute_result"
    }
   ],
   "source": [
    "from math import sqrt\n",
    "s = {int(sqrt(x)) for x in range(37)}\n",
    "s"
   ]
  },
  {
   "cell_type": "markdown",
   "metadata": {},
   "source": [
    "#### Tuples"
   ]
  },
  {
   "cell_type": "markdown",
   "metadata": {},
   "source": [
    "A tuple is an **immutable** ordered list of values."
   ]
  },
  {
   "cell_type": "code",
   "execution_count": 52,
   "metadata": {
    "execution": {
     "iopub.execute_input": "2021-05-06T06:05:24.250698Z",
     "iopub.status.busy": "2021-05-06T06:05:24.250178Z",
     "iopub.status.idle": "2021-05-06T06:05:24.266021Z",
     "shell.execute_reply": "2021-05-06T06:05:24.266584Z"
    }
   },
   "outputs": [
    {
     "data": {
      "text/plain": [
       "(1, 2, 'three')"
      ]
     },
     "execution_count": 1,
     "metadata": {},
     "output_type": "execute_result"
    }
   ],
   "source": [
    "t = (1, 2, 'three')\n",
    "t"
   ]
  },
  {
   "cell_type": "markdown",
   "metadata": {},
   "source": [
    "It can be used in ways similar to a list:"
   ]
  },
  {
   "cell_type": "code",
   "execution_count": 53,
   "metadata": {
    "execution": {
     "iopub.execute_input": "2021-05-06T06:05:24.269524Z",
     "iopub.status.busy": "2021-05-06T06:05:24.269050Z",
     "iopub.status.idle": "2021-05-06T06:05:24.284560Z",
     "shell.execute_reply": "2021-05-06T06:05:24.285126Z"
    }
   },
   "outputs": [
    {
     "data": {
      "text/plain": [
       "((1,), (2, 'three'), 'three', 3)"
      ]
     },
     "execution_count": 1,
     "metadata": {},
     "output_type": "execute_result"
    }
   ],
   "source": [
    "t[0:1], t[1:3], t[-1], len(t)"
   ]
  },
  {
   "cell_type": "markdown",
   "metadata": {},
   "source": [
    "A tuple can be used a key in a dictionary and as an element of a sets, while **lists cannot**."
   ]
  },
  {
   "cell_type": "code",
   "execution_count": 54,
   "metadata": {
    "execution": {
     "iopub.execute_input": "2021-05-06T06:05:24.288375Z",
     "iopub.status.busy": "2021-05-06T06:05:24.287902Z",
     "iopub.status.idle": "2021-05-06T06:05:24.303967Z",
     "shell.execute_reply": "2021-05-06T06:05:24.304511Z"
    },
    "jupyter": {
     "outputs_hidden": false
    }
   },
   "outputs": [
    {
     "data": {
      "text/plain": [
       "{(0, 1): 0,\n",
       " (1, 2): 1,\n",
       " (2, 3): 2,\n",
       " (3, 4): 3,\n",
       " (4, 5): 4,\n",
       " (5, 6): 5,\n",
       " (6, 7): 6,\n",
       " (7, 8): 7,\n",
       " (8, 9): 8,\n",
       " (9, 10): 9}"
      ]
     },
     "execution_count": 1,
     "metadata": {},
     "output_type": "execute_result"
    }
   ],
   "source": [
    "d = {(x, x + 1): x for x in range(10)}  # Create a dictionary with tuple keys\n",
    "d"
   ]
  },
  {
   "cell_type": "markdown",
   "metadata": {},
   "source": [
    "A tuple (and also a list) can be **unpacked**:"
   ]
  },
  {
   "cell_type": "code",
   "execution_count": 55,
   "metadata": {
    "execution": {
     "iopub.execute_input": "2021-05-06T06:05:24.307680Z",
     "iopub.status.busy": "2021-05-06T06:05:24.307166Z",
     "iopub.status.idle": "2021-05-06T06:05:24.322939Z",
     "shell.execute_reply": "2021-05-06T06:05:24.323502Z"
    }
   },
   "outputs": [
    {
     "data": {
      "text/plain": [
       "(1, 2, 'three')"
      ]
     },
     "execution_count": 1,
     "metadata": {},
     "output_type": "execute_result"
    }
   ],
   "source": [
    "one, two, three = t\n",
    "one, two, three"
   ]
  },
  {
   "cell_type": "markdown",
   "metadata": {},
   "source": [
    "Note that when retuning multiple values from a function (or code block in a jupyter notebook, as above)\n",
    "your values get wrapped in a tuple, and the tuple is what's returned.\n",
    "Unpacking the return value of a function can make it seem as if multiple values were returned."
   ]
  },
  {
   "cell_type": "markdown",
   "metadata": {},
   "source": [
    "### Functions"
   ]
  },
  {
   "cell_type": "markdown",
   "metadata": {},
   "source": [
    "Python functions are defined using the `def` keyword. For example:"
   ]
  },
  {
   "cell_type": "code",
   "execution_count": 56,
   "metadata": {
    "execution": {
     "iopub.execute_input": "2021-05-06T06:05:24.326971Z",
     "iopub.status.busy": "2021-05-06T06:05:24.326486Z",
     "iopub.status.idle": "2021-05-06T06:05:24.342133Z",
     "shell.execute_reply": "2021-05-06T06:05:24.342680Z"
    },
    "jupyter": {
     "outputs_hidden": false
    }
   },
   "outputs": [
    {
     "name": "stdout",
     "output_type": "stream",
     "text": [
      "negative\n",
      "zero\n",
      "positive\n"
     ]
    }
   ],
   "source": [
    "def sign(x):\n",
    "    if x > 0:\n",
    "        return 'positive'\n",
    "    elif x < 0:\n",
    "        return 'negative'\n",
    "    else:\n",
    "        return 'zero'\n",
    "\n",
    "for x in [-1, 0, 1]:\n",
    "    print(sign(x))"
   ]
  },
  {
   "cell_type": "markdown",
   "metadata": {},
   "source": [
    "We will often define functions to take optional keyword arguments, like this:"
   ]
  },
  {
   "cell_type": "code",
   "execution_count": 57,
   "metadata": {
    "execution": {
     "iopub.execute_input": "2021-05-06T06:05:24.346145Z",
     "iopub.status.busy": "2021-05-06T06:05:24.345675Z",
     "iopub.status.idle": "2021-05-06T06:05:24.360684Z",
     "shell.execute_reply": "2021-05-06T06:05:24.361194Z"
    },
    "jupyter": {
     "outputs_hidden": false
    }
   },
   "outputs": [
    {
     "name": "stdout",
     "output_type": "stream",
     "text": [
      "Hello, Bob!\n",
      "HELLO, FRED\n"
     ]
    }
   ],
   "source": [
    "def hello(name, loud=False):\n",
    "    if loud:\n",
    "        print('HELLO, %s' % name.upper())\n",
    "    else:\n",
    "        print('Hello, %s!' % name)\n",
    "\n",
    "hello('Bob')\n",
    "hello('Fred', loud=True)"
   ]
  },
  {
   "cell_type": "markdown",
   "metadata": {},
   "source": [
    "#### Positional and Keyword arguments"
   ]
  },
  {
   "cell_type": "markdown",
   "metadata": {},
   "source": [
    "Python functions are very flexible in the way they accept arguments. Both positional (regular) and keyword\n",
    "arguments are supported and can be mixed in the same definition. Additionally, extra arguments can be passed in with the `*args` and `**kwargs` constructs.\n",
    "\n",
    "Here's a function with three positional arguments and three keyword arguments which also accepts extra \n",
    "positional and keyword arguments."
   ]
  },
  {
   "cell_type": "code",
   "execution_count": 58,
   "metadata": {
    "execution": {
     "iopub.execute_input": "2021-05-06T06:05:24.364694Z",
     "iopub.status.busy": "2021-05-06T06:05:24.364216Z",
     "iopub.status.idle": "2021-05-06T06:05:24.381910Z",
     "shell.execute_reply": "2021-05-06T06:05:24.382851Z"
    }
   },
   "outputs": [],
   "source": [
    "def myfunc(a1, a2, a3, *extra_args, kw1='foo', kw2='bar', kw3=3, **extra_kwargs):\n",
    "    print(f'Got positional args: {(a1, a2, a3)}')\n",
    "    print(f'Got keyword args   : {dict(kw1=kw1, kw2=kw3, kw3=kw3)}')\n",
    "    print(f'Got extra positional args: {extra_args}')\n",
    "    print(f'Got extra keyword args: {extra_kwargs}')"
   ]
  },
  {
   "cell_type": "markdown",
   "metadata": {},
   "source": [
    "It can be called in many ways:"
   ]
  },
  {
   "cell_type": "code",
   "execution_count": 59,
   "metadata": {
    "execution": {
     "iopub.execute_input": "2021-05-06T06:05:24.386688Z",
     "iopub.status.busy": "2021-05-06T06:05:24.386117Z",
     "iopub.status.idle": "2021-05-06T06:05:24.402251Z",
     "shell.execute_reply": "2021-05-06T06:05:24.402764Z"
    }
   },
   "outputs": [
    {
     "name": "stdout",
     "output_type": "stream",
     "text": [
      "Got positional args: (1, 2, 3)\n",
      "Got keyword args   : {'kw1': 'foo', 'kw2': 3, 'kw3': 3}\n",
      "Got extra positional args: (4, 5, 6)\n",
      "Got extra keyword args: {}\n"
     ]
    }
   ],
   "source": [
    "myfunc(1,2,3,4,5,6)"
   ]
  },
  {
   "cell_type": "code",
   "execution_count": 60,
   "metadata": {
    "execution": {
     "iopub.execute_input": "2021-05-06T06:05:24.405522Z",
     "iopub.status.busy": "2021-05-06T06:05:24.405038Z",
     "iopub.status.idle": "2021-05-06T06:05:24.421147Z",
     "shell.execute_reply": "2021-05-06T06:05:24.420600Z"
    }
   },
   "outputs": [
    {
     "name": "stdout",
     "output_type": "stream",
     "text": [
      "Got positional args: (1, 2, 3)\n",
      "Got keyword args   : {'kw1': 'foo', 'kw2': 3, 'kw3': 3}\n",
      "Got extra positional args: (4,)\n",
      "Got extra keyword args: {}\n"
     ]
    }
   ],
   "source": [
    "my_args = [1,2,3,4]\n",
    "myfunc(*my_args)"
   ]
  },
  {
   "cell_type": "code",
   "execution_count": 61,
   "metadata": {
    "execution": {
     "iopub.execute_input": "2021-05-06T06:05:24.424444Z",
     "iopub.status.busy": "2021-05-06T06:05:24.423860Z",
     "iopub.status.idle": "2021-05-06T06:05:24.439266Z",
     "shell.execute_reply": "2021-05-06T06:05:24.439822Z"
    }
   },
   "outputs": [
    {
     "name": "stdout",
     "output_type": "stream",
     "text": [
      "Got positional args: (1, 2, 3)\n",
      "Got keyword args   : {'kw1': 'foo', 'kw2': 3, 'kw3': 3}\n",
      "Got extra positional args: ()\n",
      "Got extra keyword args: {'foo': 'bar'}\n"
     ]
    }
   ],
   "source": [
    "myfunc(1,2,3, kw3=3, kw2=2, foo='bar')"
   ]
  },
  {
   "cell_type": "code",
   "execution_count": 62,
   "metadata": {
    "execution": {
     "iopub.execute_input": "2021-05-06T06:05:24.442751Z",
     "iopub.status.busy": "2021-05-06T06:05:24.442268Z",
     "iopub.status.idle": "2021-05-06T06:05:24.457834Z",
     "shell.execute_reply": "2021-05-06T06:05:24.458398Z"
    }
   },
   "outputs": [
    {
     "name": "stdout",
     "output_type": "stream",
     "text": [
      "Got positional args: (1, 2, 3)\n",
      "Got keyword args   : {'kw1': 1, 'kw2': 3, 'kw3': 3}\n",
      "Got extra positional args: ()\n",
      "Got extra keyword args: {'kw4': 4}\n"
     ]
    }
   ],
   "source": [
    "my_kwargs = dict(kw1=1, kw2=2, kw3=3, kw4=4)\n",
    "myfunc(1,2,3, **my_kwargs)"
   ]
  },
  {
   "cell_type": "markdown",
   "metadata": {},
   "source": [
    "Note that keyword args can be omitted, while positional args cannot:"
   ]
  },
  {
   "cell_type": "code",
   "execution_count": 63,
   "metadata": {
    "execution": {
     "iopub.execute_input": "2021-05-06T06:05:24.461475Z",
     "iopub.status.busy": "2021-05-06T06:05:24.460977Z",
     "iopub.status.idle": "2021-05-06T06:05:24.477492Z",
     "shell.execute_reply": "2021-05-06T06:05:24.478234Z"
    }
   },
   "outputs": [
    {
     "name": "stderr",
     "output_type": "stream",
     "text": [
      "myfunc() missing 1 required positional argument: 'a3'\n"
     ]
    }
   ],
   "source": [
    "try:\n",
    "    myfunc(1,2)\n",
    "except TypeError as e:\n",
    "    print(e, file=sys.stderr)"
   ]
  },
  {
   "cell_type": "markdown",
   "metadata": {},
   "source": [
    "### Classes"
   ]
  },
  {
   "cell_type": "markdown",
   "metadata": {},
   "source": [
    "The syntax for defining classes in Python is straightforward:"
   ]
  },
  {
   "cell_type": "code",
   "execution_count": 64,
   "metadata": {
    "execution": {
     "iopub.execute_input": "2021-05-06T06:05:24.482459Z",
     "iopub.status.busy": "2021-05-06T06:05:24.481761Z",
     "iopub.status.idle": "2021-05-06T06:05:24.498950Z",
     "shell.execute_reply": "2021-05-06T06:05:24.499697Z"
    },
    "jupyter": {
     "outputs_hidden": false
    }
   },
   "outputs": [
    {
     "name": "stdout",
     "output_type": "stream",
     "text": [
      "Hello, Fred\n",
      "HELLO, FRED!\n"
     ]
    }
   ],
   "source": [
    "class Greeter:\n",
    "\n",
    "    # Constructor\n",
    "    def __init__(self, name):\n",
    "        self.name = name  # Create an instance variable\n",
    "\n",
    "    # Instance method\n",
    "    def greet(self, loud=False):\n",
    "        if loud:\n",
    "            print('HELLO, %s!' % self.name.upper())\n",
    "        else:\n",
    "            print('Hello, %s' % self.name)\n",
    "\n",
    "g = Greeter('Fred')  # Construct an instance of the Greeter class\n",
    "g.greet()            # Call an instance method\n",
    "g.greet(loud=True)   # Call an instance method"
   ]
  },
  {
   "cell_type": "markdown",
   "metadata": {},
   "source": [
    "Classes can implement special **magic functions** that enable them to be integrated nicely with other python code. Magic functions have special names that start and end with `__`.\n",
    "\n",
    "For example, here's a class that can be indexed with `[]` and iterated over with a `for` loop."
   ]
  },
  {
   "cell_type": "code",
   "execution_count": 65,
   "metadata": {
    "execution": {
     "iopub.execute_input": "2021-05-06T06:05:24.505070Z",
     "iopub.status.busy": "2021-05-06T06:05:24.504483Z",
     "iopub.status.idle": "2021-05-06T06:05:24.520011Z",
     "shell.execute_reply": "2021-05-06T06:05:24.520544Z"
    }
   },
   "outputs": [],
   "source": [
    "class ExampleCollection(object):\n",
    "    def __init__(self):\n",
    "        self.items = [100, 200, 300]\n",
    "    \n",
    "    def __len__(self):\n",
    "        return len(self.items)\n",
    "    \n",
    "    def __getitem__(self, idx):\n",
    "        return self.items[idx]\n",
    "    \n",
    "    def __iter__(self):\n",
    "        class ExampleIter():\n",
    "            def __init__(self, collection):\n",
    "                self.idx = 0\n",
    "                self.collection = collection\n",
    "                \n",
    "            def __next__(self):\n",
    "                if self.idx >= len(self.collection):\n",
    "                    raise StopIteration()\n",
    "                x = self.collection[self.idx]\n",
    "                self.idx += 1\n",
    "                return x\n",
    "                \n",
    "        return ExampleIter(self)\n",
    "    "
   ]
  },
  {
   "cell_type": "code",
   "execution_count": 66,
   "metadata": {
    "execution": {
     "iopub.execute_input": "2021-05-06T06:05:24.523562Z",
     "iopub.status.busy": "2021-05-06T06:05:24.523084Z",
     "iopub.status.idle": "2021-05-06T06:05:24.538726Z",
     "shell.execute_reply": "2021-05-06T06:05:24.539363Z"
    }
   },
   "outputs": [
    {
     "name": "stdout",
     "output_type": "stream",
     "text": [
      "length= 3\n",
      "example[0]= 100\n"
     ]
    }
   ],
   "source": [
    "example = ExampleCollection()\n",
    "print('length=', len(example)) # invokes __len__\n",
    "print('example[0]=', example[0]) # invokes __getitem__"
   ]
  },
  {
   "cell_type": "code",
   "execution_count": 67,
   "metadata": {
    "execution": {
     "iopub.execute_input": "2021-05-06T06:05:24.542375Z",
     "iopub.status.busy": "2021-05-06T06:05:24.541875Z",
     "iopub.status.idle": "2021-05-06T06:05:24.558689Z",
     "shell.execute_reply": "2021-05-06T06:05:24.559201Z"
    }
   },
   "outputs": [
    {
     "name": "stdout",
     "output_type": "stream",
     "text": [
      "100\n",
      "200\n",
      "300\n"
     ]
    }
   ],
   "source": [
    "for x in example: # invokes __iter__ and it's __next__\n",
    "    print(x)"
   ]
  },
  {
   "cell_type": "markdown",
   "metadata": {},
   "source": [
    "Many other magic functions exist. Consult the docs and see if you can catch 'em all!"
   ]
  },
  {
   "cell_type": "markdown",
   "metadata": {},
   "source": [
    "## Numpy"
   ]
  },
  {
   "cell_type": "markdown",
   "metadata": {},
   "source": [
    "Numpy is a core library for scientific computing in Python. It provides a high-performance multidimensional array object, and tools for working with these arrays.\n",
    "\n",
    "We'll refer to such n-dimentional arrays as **tensors** in accordance with the deep learning terminology.\n",
    "\n",
    "Although we'll mainly use **PyTorch** tensors for implementing our Deep Learning systems, it's still important to be proficient with `numpy`, since:\n",
    "1. They concepts are very similar. It will help you understand numpy ndarrays you'll understand Pytorch Tensors.\n",
    "1. You'll find that you need to switch between the two when working with read DL systems."
   ]
  },
  {
   "cell_type": "markdown",
   "metadata": {},
   "source": [
    "To use Numpy, we first need to import the `numpy` package:"
   ]
  },
  {
   "cell_type": "code",
   "execution_count": 68,
   "metadata": {
    "execution": {
     "iopub.execute_input": "2021-05-06T06:05:24.562493Z",
     "iopub.status.busy": "2021-05-06T06:05:24.561980Z",
     "iopub.status.idle": "2021-05-06T06:05:24.577800Z",
     "shell.execute_reply": "2021-05-06T06:05:24.578526Z"
    },
    "jupyter": {
     "outputs_hidden": false
    }
   },
   "outputs": [],
   "source": [
    "import numpy as np"
   ]
  },
  {
   "cell_type": "markdown",
   "metadata": {},
   "source": [
    "### Arrays"
   ]
  },
  {
   "cell_type": "markdown",
   "metadata": {},
   "source": [
    "A numpy array represents an n-dimentional grid of values, all of the same type, and is indexed by a tuple of nonnegative integers.\n",
    "\n",
    "- The the **rank** of the array is the number of dimensions it has\n",
    "- The **shape** of an array is a tuple of integers giving the number of elements along each dimension"
   ]
  },
  {
   "cell_type": "markdown",
   "metadata": {},
   "source": [
    "We can initialize numpy arrays from nested Python lists, and access elements using square brackets:"
   ]
  },
  {
   "cell_type": "code",
   "execution_count": 69,
   "metadata": {
    "execution": {
     "iopub.execute_input": "2021-05-06T06:05:24.581854Z",
     "iopub.status.busy": "2021-05-06T06:05:24.581358Z",
     "iopub.status.idle": "2021-05-06T06:05:24.598110Z",
     "shell.execute_reply": "2021-05-06T06:05:24.598664Z"
    },
    "jupyter": {
     "outputs_hidden": false
    }
   },
   "outputs": [
    {
     "data": {
      "text/plain": [
       "array([1, 2, 3])"
      ]
     },
     "execution_count": 1,
     "metadata": {},
     "output_type": "execute_result"
    }
   ],
   "source": [
    "a = np.array([1, 2, 3])  # Create a rank 1 array\n",
    "a"
   ]
  },
  {
   "cell_type": "code",
   "execution_count": 70,
   "metadata": {
    "execution": {
     "iopub.execute_input": "2021-05-06T06:05:24.601634Z",
     "iopub.status.busy": "2021-05-06T06:05:24.601142Z",
     "iopub.status.idle": "2021-05-06T06:05:24.619796Z",
     "shell.execute_reply": "2021-05-06T06:05:24.620352Z"
    }
   },
   "outputs": [
    {
     "data": {
      "text/plain": [
       "1"
      ]
     },
     "execution_count": 1,
     "metadata": {},
     "output_type": "execute_result"
    }
   ],
   "source": [
    "a[0]"
   ]
  },
  {
   "cell_type": "markdown",
   "metadata": {},
   "source": [
    "Two very important properties of any numpy array are its `shape` and `dtype`."
   ]
  },
  {
   "cell_type": "code",
   "execution_count": 71,
   "metadata": {
    "execution": {
     "iopub.execute_input": "2021-05-06T06:05:24.623171Z",
     "iopub.status.busy": "2021-05-06T06:05:24.622679Z",
     "iopub.status.idle": "2021-05-06T06:05:24.638527Z",
     "shell.execute_reply": "2021-05-06T06:05:24.639115Z"
    },
    "jupyter": {
     "outputs_hidden": false
    }
   },
   "outputs": [],
   "source": [
    "def print_arr(arr, pre_text=''):\n",
    "    print(f'{pre_text}{arr} shape={arr.shape} dtype={arr.dtype}')"
   ]
  },
  {
   "cell_type": "code",
   "execution_count": 72,
   "metadata": {
    "execution": {
     "iopub.execute_input": "2021-05-06T06:05:24.642405Z",
     "iopub.status.busy": "2021-05-06T06:05:24.641765Z",
     "iopub.status.idle": "2021-05-06T06:05:24.659647Z",
     "shell.execute_reply": "2021-05-06T06:05:24.660173Z"
    }
   },
   "outputs": [
    {
     "name": "stdout",
     "output_type": "stream",
     "text": [
      "[1 2 3] shape=(3,) dtype=int64\n"
     ]
    }
   ],
   "source": [
    "print_arr(a)"
   ]
  },
  {
   "cell_type": "code",
   "execution_count": 73,
   "metadata": {
    "execution": {
     "iopub.execute_input": "2021-05-06T06:05:24.663109Z",
     "iopub.status.busy": "2021-05-06T06:05:24.662605Z",
     "iopub.status.idle": "2021-05-06T06:05:24.679166Z",
     "shell.execute_reply": "2021-05-06T06:05:24.679686Z"
    },
    "jupyter": {
     "outputs_hidden": false
    }
   },
   "outputs": [
    {
     "data": {
      "text/plain": [
       "array([5, 2, 3])"
      ]
     },
     "execution_count": 1,
     "metadata": {},
     "output_type": "execute_result"
    }
   ],
   "source": [
    "a[0] = 5                 # Change an element of the array\n",
    "a"
   ]
  },
  {
   "cell_type": "code",
   "execution_count": 74,
   "metadata": {
    "execution": {
     "iopub.execute_input": "2021-05-06T06:05:24.682851Z",
     "iopub.status.busy": "2021-05-06T06:05:24.682341Z",
     "iopub.status.idle": "2021-05-06T06:05:24.700632Z",
     "shell.execute_reply": "2021-05-06T06:05:24.701225Z"
    },
    "jupyter": {
     "outputs_hidden": false
    }
   },
   "outputs": [
    {
     "name": "stdout",
     "output_type": "stream",
     "text": [
      "[[1.  2.  3. ]\n",
      " [4.  5.  6.7]] shape=(2, 3) dtype=float64\n"
     ]
    }
   ],
   "source": [
    "b = np.array([[1,2,3],[4,5,6.7]])   # Create a rank 2 array\n",
    "print_arr(b)"
   ]
  },
  {
   "cell_type": "code",
   "execution_count": 75,
   "metadata": {
    "execution": {
     "iopub.execute_input": "2021-05-06T06:05:24.704226Z",
     "iopub.status.busy": "2021-05-06T06:05:24.703734Z",
     "iopub.status.idle": "2021-05-06T06:05:24.720209Z",
     "shell.execute_reply": "2021-05-06T06:05:24.720734Z"
    },
    "jupyter": {
     "outputs_hidden": false
    }
   },
   "outputs": [
    {
     "data": {
      "text/plain": [
       "(1.0, 2.0, 4.0)"
      ]
     },
     "execution_count": 1,
     "metadata": {},
     "output_type": "execute_result"
    }
   ],
   "source": [
    "b[0, 0], b[0, 1], b[1, 0]"
   ]
  },
  {
   "cell_type": "markdown",
   "metadata": {},
   "source": [
    "Numpy also provides many functions to create arrays:"
   ]
  },
  {
   "cell_type": "code",
   "execution_count": 76,
   "metadata": {
    "execution": {
     "iopub.execute_input": "2021-05-06T06:05:24.723707Z",
     "iopub.status.busy": "2021-05-06T06:05:24.723226Z",
     "iopub.status.idle": "2021-05-06T06:05:24.739818Z",
     "shell.execute_reply": "2021-05-06T06:05:24.740381Z"
    },
    "jupyter": {
     "outputs_hidden": false
    }
   },
   "outputs": [
    {
     "data": {
      "text/plain": [
       "array([[0., 0.],\n",
       "       [0., 0.]])"
      ]
     },
     "execution_count": 1,
     "metadata": {},
     "output_type": "execute_result"
    }
   ],
   "source": [
    "np.zeros((2, 2))  # Create an array of all zeros"
   ]
  },
  {
   "cell_type": "code",
   "execution_count": 77,
   "metadata": {
    "execution": {
     "iopub.execute_input": "2021-05-06T06:05:24.743508Z",
     "iopub.status.busy": "2021-05-06T06:05:24.742909Z",
     "iopub.status.idle": "2021-05-06T06:05:24.760290Z",
     "shell.execute_reply": "2021-05-06T06:05:24.759754Z"
    },
    "jupyter": {
     "outputs_hidden": false
    }
   },
   "outputs": [
    {
     "data": {
      "text/plain": [
       "array([[1., 1., 1., 1., 1., 1., 1., 1., 1., 1.]])"
      ]
     },
     "execution_count": 1,
     "metadata": {},
     "output_type": "execute_result"
    }
   ],
   "source": [
    "np.ones((1, 10))   # Create an array of all ones"
   ]
  },
  {
   "cell_type": "code",
   "execution_count": 78,
   "metadata": {
    "execution": {
     "iopub.execute_input": "2021-05-06T06:05:24.763224Z",
     "iopub.status.busy": "2021-05-06T06:05:24.762741Z",
     "iopub.status.idle": "2021-05-06T06:05:24.779111Z",
     "shell.execute_reply": "2021-05-06T06:05:24.779662Z"
    },
    "jupyter": {
     "outputs_hidden": false
    }
   },
   "outputs": [
    {
     "data": {
      "text/plain": [
       "array([[7.2, 7.2, 7.2],\n",
       "       [7.2, 7.2, 7.2],\n",
       "       [7.2, 7.2, 7.2]])"
      ]
     },
     "execution_count": 1,
     "metadata": {},
     "output_type": "execute_result"
    }
   ],
   "source": [
    "np.full((3, 3), 7.2) # Create a constant array"
   ]
  },
  {
   "cell_type": "code",
   "execution_count": 79,
   "metadata": {
    "execution": {
     "iopub.execute_input": "2021-05-06T06:05:24.782723Z",
     "iopub.status.busy": "2021-05-06T06:05:24.782226Z",
     "iopub.status.idle": "2021-05-06T06:05:24.799782Z",
     "shell.execute_reply": "2021-05-06T06:05:24.800451Z"
    },
    "jupyter": {
     "outputs_hidden": false
    }
   },
   "outputs": [
    {
     "data": {
      "text/plain": [
       "array([[1, 0, 0, 0],\n",
       "       [0, 1, 0, 0],\n",
       "       [0, 0, 1, 0],\n",
       "       [0, 0, 0, 1]])"
      ]
     },
     "execution_count": 1,
     "metadata": {},
     "output_type": "execute_result"
    }
   ],
   "source": [
    "np.eye(4, dtype=np.int) # Create an identity matrix of integers"
   ]
  },
  {
   "cell_type": "code",
   "execution_count": 80,
   "metadata": {
    "execution": {
     "iopub.execute_input": "2021-05-06T06:05:24.803904Z",
     "iopub.status.busy": "2021-05-06T06:05:24.803314Z",
     "iopub.status.idle": "2021-05-06T06:05:24.820358Z",
     "shell.execute_reply": "2021-05-06T06:05:24.820885Z"
    },
    "jupyter": {
     "outputs_hidden": false
    }
   },
   "outputs": [
    {
     "data": {
      "text/plain": [
       "array([[[0.21030487, 0.16413294, 0.0620253 ],\n",
       "        [0.57909317, 0.6707667 , 0.85358298],\n",
       "        [0.85557432, 0.18053594, 0.37579795],\n",
       "        [0.1196139 , 0.62616034, 0.65408453]],\n",
       "\n",
       "       [[0.22013083, 0.00437785, 0.76208964],\n",
       "        [0.93533587, 0.09042437, 0.09654054],\n",
       "        [0.85982811, 0.27006848, 0.69578611],\n",
       "        [0.84890888, 0.89290441, 0.82477928]],\n",
       "\n",
       "       [[0.36699536, 0.09872686, 0.62528484],\n",
       "        [0.76249704, 0.32617376, 0.46720248],\n",
       "        [0.41300173, 0.47594754, 0.51302192],\n",
       "        [0.74343738, 0.60909682, 0.90281669]],\n",
       "\n",
       "       [[0.77057876, 0.43833146, 0.20334227],\n",
       "        [0.55572344, 0.54673936, 0.71882163],\n",
       "        [0.16788722, 0.04920307, 0.52993349],\n",
       "        [0.62413791, 0.61836653, 0.55189134]]])"
      ]
     },
     "execution_count": 1,
     "metadata": {},
     "output_type": "execute_result"
    }
   ],
   "source": [
    "t = np.random.random((4,4,3)) # Create a 3d-array filled with U[0,1] random values\n",
    "t"
   ]
  },
  {
   "cell_type": "code",
   "execution_count": 81,
   "metadata": {
    "execution": {
     "iopub.execute_input": "2021-05-06T06:05:24.823783Z",
     "iopub.status.busy": "2021-05-06T06:05:24.823297Z",
     "iopub.status.idle": "2021-05-06T06:05:24.840228Z",
     "shell.execute_reply": "2021-05-06T06:05:24.840831Z"
    }
   },
   "outputs": [
    {
     "data": {
      "text/plain": [
       "0.09654053862292766"
      ]
     },
     "execution_count": 1,
     "metadata": {},
     "output_type": "execute_result"
    }
   ],
   "source": [
    "t[1,1,2]"
   ]
  },
  {
   "cell_type": "markdown",
   "metadata": {},
   "source": [
    "#### Array rank\n",
    "\n",
    "In `numpy` **rank** means **number of dimensions**."
   ]
  },
  {
   "cell_type": "markdown",
   "metadata": {},
   "source": [
    "**rank-0** arrays are scalars."
   ]
  },
  {
   "cell_type": "code",
   "execution_count": 82,
   "metadata": {
    "execution": {
     "iopub.execute_input": "2021-05-06T06:05:24.844705Z",
     "iopub.status.busy": "2021-05-06T06:05:24.844028Z",
     "iopub.status.idle": "2021-05-06T06:05:24.861144Z",
     "shell.execute_reply": "2021-05-06T06:05:24.861681Z"
    }
   },
   "outputs": [
    {
     "name": "stdout",
     "output_type": "stream",
     "text": [
      "17 shape=() dtype=int64\n"
     ]
    }
   ],
   "source": [
    "a0 = np.array(17)\n",
    "print_arr(a0)"
   ]
  },
  {
   "cell_type": "code",
   "execution_count": 83,
   "metadata": {
    "execution": {
     "iopub.execute_input": "2021-05-06T06:05:24.864443Z",
     "iopub.status.busy": "2021-05-06T06:05:24.863958Z",
     "iopub.status.idle": "2021-05-06T06:05:24.880278Z",
     "shell.execute_reply": "2021-05-06T06:05:24.880805Z"
    }
   },
   "outputs": [
    {
     "data": {
      "text/plain": [
       "17"
      ]
     },
     "execution_count": 1,
     "metadata": {},
     "output_type": "execute_result"
    }
   ],
   "source": [
    "# Get sclar as a python float\n",
    "a0.item()"
   ]
  },
  {
   "cell_type": "markdown",
   "metadata": {},
   "source": [
    "**rank-1** arrays of length `n` have a shape of `(n,)`. "
   ]
  },
  {
   "cell_type": "code",
   "execution_count": 84,
   "metadata": {
    "execution": {
     "iopub.execute_input": "2021-05-06T06:05:24.883810Z",
     "iopub.status.busy": "2021-05-06T06:05:24.883334Z",
     "iopub.status.idle": "2021-05-06T06:05:24.899538Z",
     "shell.execute_reply": "2021-05-06T06:05:24.900141Z"
    }
   },
   "outputs": [
    {
     "name": "stdout",
     "output_type": "stream",
     "text": [
      "[1 2 3] shape=(3,) dtype=int64\n"
     ]
    }
   ],
   "source": [
    "# A rank-1 array\n",
    "a1 = np.array([1,2,3])\n",
    "\n",
    "print_arr(a1)"
   ]
  },
  {
   "cell_type": "code",
   "execution_count": 85,
   "metadata": {
    "execution": {
     "iopub.execute_input": "2021-05-06T06:05:24.903405Z",
     "iopub.status.busy": "2021-05-06T06:05:24.902905Z",
     "iopub.status.idle": "2021-05-06T06:05:24.918699Z",
     "shell.execute_reply": "2021-05-06T06:05:24.919211Z"
    }
   },
   "outputs": [
    {
     "name": "stdout",
     "output_type": "stream",
     "text": [
      "[3.14] shape=(1,) dtype=float64\n"
     ]
    }
   ],
   "source": [
    "# A rank-1 array scalar\n",
    "print_arr(np.array([3.14]))"
   ]
  },
  {
   "cell_type": "markdown",
   "metadata": {},
   "source": [
    "**rank-2** arrays have a shape of `(n,m)`. "
   ]
  },
  {
   "cell_type": "code",
   "execution_count": 86,
   "metadata": {
    "execution": {
     "iopub.execute_input": "2021-05-06T06:05:24.922581Z",
     "iopub.status.busy": "2021-05-06T06:05:24.922088Z",
     "iopub.status.idle": "2021-05-06T06:05:24.938122Z",
     "shell.execute_reply": "2021-05-06T06:05:24.938684Z"
    }
   },
   "outputs": [
    {
     "name": "stdout",
     "output_type": "stream",
     "text": [
      "[[1 2 3]\n",
      " [4 5 6]] shape=(2, 3) dtype=int64\n"
     ]
    }
   ],
   "source": [
    "a2 = np.array([[1,2,3], [4,5,6]])\n",
    "\n",
    "print_arr(a2)"
   ]
  },
  {
   "cell_type": "markdown",
   "metadata": {
    "execution": {
     "iopub.execute_input": "2021-03-25T08:17:54.396587Z",
     "iopub.status.busy": "2021-03-25T08:17:54.395962Z",
     "iopub.status.idle": "2021-03-25T08:17:54.415353Z",
     "shell.execute_reply": "2021-03-25T08:17:54.414781Z"
    }
   },
   "source": [
    "A column vector is also rank-2!"
   ]
  },
  {
   "cell_type": "code",
   "execution_count": 87,
   "metadata": {
    "execution": {
     "iopub.execute_input": "2021-05-06T06:05:24.941655Z",
     "iopub.status.busy": "2021-05-06T06:05:24.941158Z",
     "iopub.status.idle": "2021-05-06T06:05:24.956911Z",
     "shell.execute_reply": "2021-05-06T06:05:24.957421Z"
    }
   },
   "outputs": [
    {
     "name": "stdout",
     "output_type": "stream",
     "text": [
      "[[1]\n",
      " [2]\n",
      " [3]] shape=(3, 1) dtype=int64\n"
     ]
    }
   ],
   "source": [
    "a_col = a1.reshape(-1, 1)\n",
    "\n",
    "print_arr(a_col)"
   ]
  },
  {
   "cell_type": "markdown",
   "metadata": {
    "execution": {
     "iopub.execute_input": "2021-03-25T08:17:54.418531Z",
     "iopub.status.busy": "2021-03-25T08:17:54.418004Z",
     "iopub.status.idle": "2021-03-25T08:17:54.433799Z",
     "shell.execute_reply": "2021-03-25T08:17:54.434351Z"
    }
   },
   "source": [
    "And a row vector is also rank-2:"
   ]
  },
  {
   "cell_type": "code",
   "execution_count": 88,
   "metadata": {
    "execution": {
     "iopub.execute_input": "2021-05-06T06:05:24.960347Z",
     "iopub.status.busy": "2021-05-06T06:05:24.959863Z",
     "iopub.status.idle": "2021-05-06T06:05:24.975518Z",
     "shell.execute_reply": "2021-05-06T06:05:24.976187Z"
    }
   },
   "outputs": [
    {
     "name": "stdout",
     "output_type": "stream",
     "text": [
      "[[1 2 3]] shape=(1, 3) dtype=int64\n"
     ]
    }
   ],
   "source": [
    "a_row = a1.reshape(1, -1)\n",
    "\n",
    "print_arr(a_row)"
   ]
  },
  {
   "cell_type": "markdown",
   "metadata": {},
   "source": [
    "**rank-k** arrays have a shape of `(n1,...,nk)`. "
   ]
  },
  {
   "cell_type": "code",
   "execution_count": 89,
   "metadata": {
    "execution": {
     "iopub.execute_input": "2021-05-06T06:05:24.979209Z",
     "iopub.status.busy": "2021-05-06T06:05:24.978730Z",
     "iopub.status.idle": "2021-05-06T06:05:24.995472Z",
     "shell.execute_reply": "2021-05-06T06:05:24.996150Z"
    }
   },
   "outputs": [
    {
     "name": "stdout",
     "output_type": "stream",
     "text": [
      "[[[0. 0. 0. 0.]\n",
      "  [0. 0. 0. 0.]\n",
      "  [0. 0. 0. 0.]]\n",
      "\n",
      " [[0. 0. 0. 0.]\n",
      "  [0. 0. 0. 0.]\n",
      "  [0. 0. 0. 0.]]] shape=(2, 3, 4) dtype=float64\n"
     ]
    }
   ],
   "source": [
    "print_arr(np.zeros((2,3,4)))"
   ]
  },
  {
   "cell_type": "code",
   "execution_count": 90,
   "metadata": {
    "execution": {
     "iopub.execute_input": "2021-05-06T06:05:24.999399Z",
     "iopub.status.busy": "2021-05-06T06:05:24.998897Z",
     "iopub.status.idle": "2021-05-06T06:05:25.014709Z",
     "shell.execute_reply": "2021-05-06T06:05:25.015275Z"
    }
   },
   "outputs": [
    {
     "name": "stdout",
     "output_type": "stream",
     "text": [
      "[[[[1. 1.]\n",
      "   [1. 1.]]\n",
      "\n",
      "  [[1. 1.]\n",
      "   [1. 1.]]]\n",
      "\n",
      "\n",
      " [[[1. 1.]\n",
      "   [1. 1.]]\n",
      "\n",
      "  [[1. 1.]\n",
      "   [1. 1.]]]] shape=(2, 2, 2, 2) dtype=float64\n"
     ]
    }
   ],
   "source": [
    "print_arr(np.ones((2,2,2,2)))"
   ]
  },
  {
   "cell_type": "markdown",
   "metadata": {},
   "source": [
    "### Array math"
   ]
  },
  {
   "cell_type": "markdown",
   "metadata": {},
   "source": [
    "#### Elementwise operations\n",
    "Basic mathematical functions **operate elementwise** on arrays, and are available both as operator overloads and as functions in the numpy module:"
   ]
  },
  {
   "cell_type": "code",
   "execution_count": 91,
   "metadata": {
    "execution": {
     "iopub.execute_input": "2021-05-06T06:05:25.018763Z",
     "iopub.status.busy": "2021-05-06T06:05:25.018282Z",
     "iopub.status.idle": "2021-05-06T06:05:25.033980Z",
     "shell.execute_reply": "2021-05-06T06:05:25.034493Z"
    },
    "jupyter": {
     "outputs_hidden": false
    }
   },
   "outputs": [
    {
     "name": "stdout",
     "output_type": "stream",
     "text": [
      "[[ 6.  8.]\n",
      " [10. 12.]]\n"
     ]
    }
   ],
   "source": [
    "x = np.array([[1,2],[3,4]], dtype=np.float64)\n",
    "y = np.array([[5,6],[7,8]], dtype=np.float64)\n",
    "\n",
    "# Elementwise basic math\n",
    "print(x + y)"
   ]
  },
  {
   "cell_type": "code",
   "execution_count": 92,
   "metadata": {
    "execution": {
     "iopub.execute_input": "2021-05-06T06:05:25.037270Z",
     "iopub.status.busy": "2021-05-06T06:05:25.036789Z",
     "iopub.status.idle": "2021-05-06T06:05:25.052142Z",
     "shell.execute_reply": "2021-05-06T06:05:25.052649Z"
    },
    "jupyter": {
     "outputs_hidden": false
    }
   },
   "outputs": [
    {
     "name": "stdout",
     "output_type": "stream",
     "text": [
      "[[-4. -4.]\n",
      " [-4. -4.]]\n"
     ]
    }
   ],
   "source": [
    "print(x - y)"
   ]
  },
  {
   "cell_type": "code",
   "execution_count": 93,
   "metadata": {
    "execution": {
     "iopub.execute_input": "2021-05-06T06:05:25.055299Z",
     "iopub.status.busy": "2021-05-06T06:05:25.054824Z",
     "iopub.status.idle": "2021-05-06T06:05:25.072393Z",
     "shell.execute_reply": "2021-05-06T06:05:25.072944Z"
    },
    "jupyter": {
     "outputs_hidden": false
    }
   },
   "outputs": [
    {
     "name": "stdout",
     "output_type": "stream",
     "text": [
      "[[ 5. 12.]\n",
      " [21. 32.]]\n"
     ]
    }
   ],
   "source": [
    "print(x * y)"
   ]
  },
  {
   "cell_type": "code",
   "execution_count": 94,
   "metadata": {
    "execution": {
     "iopub.execute_input": "2021-05-06T06:05:25.075899Z",
     "iopub.status.busy": "2021-05-06T06:05:25.075359Z",
     "iopub.status.idle": "2021-05-06T06:05:25.092158Z",
     "shell.execute_reply": "2021-05-06T06:05:25.092680Z"
    },
    "jupyter": {
     "outputs_hidden": false
    }
   },
   "outputs": [
    {
     "name": "stdout",
     "output_type": "stream",
     "text": [
      "[[0.2        0.33333333]\n",
      " [0.42857143 0.5       ]]\n"
     ]
    }
   ],
   "source": [
    "print(x / y)"
   ]
  },
  {
   "cell_type": "code",
   "execution_count": 95,
   "metadata": {
    "execution": {
     "iopub.execute_input": "2021-05-06T06:05:25.095461Z",
     "iopub.status.busy": "2021-05-06T06:05:25.094981Z",
     "iopub.status.idle": "2021-05-06T06:05:25.110849Z",
     "shell.execute_reply": "2021-05-06T06:05:25.111358Z"
    },
    "jupyter": {
     "outputs_hidden": false
    }
   },
   "outputs": [
    {
     "name": "stdout",
     "output_type": "stream",
     "text": [
      "[[1.         1.41421356]\n",
      " [1.73205081 2.        ]]\n"
     ]
    }
   ],
   "source": [
    "# Elementwise functions\n",
    "print(np.sqrt(x))"
   ]
  },
  {
   "cell_type": "code",
   "execution_count": 96,
   "metadata": {
    "execution": {
     "iopub.execute_input": "2021-05-06T06:05:25.114249Z",
     "iopub.status.busy": "2021-05-06T06:05:25.113771Z",
     "iopub.status.idle": "2021-05-06T06:05:25.129573Z",
     "shell.execute_reply": "2021-05-06T06:05:25.130109Z"
    },
    "jupyter": {
     "outputs_hidden": false
    }
   },
   "outputs": [
    {
     "name": "stdout",
     "output_type": "stream",
     "text": [
      "[[ 2.71828183  7.3890561 ]\n",
      " [20.08553692 54.59815003]]\n"
     ]
    }
   ],
   "source": [
    "print(np.exp(x))"
   ]
  },
  {
   "cell_type": "code",
   "execution_count": 97,
   "metadata": {
    "execution": {
     "iopub.execute_input": "2021-05-06T06:05:25.132946Z",
     "iopub.status.busy": "2021-05-06T06:05:25.132419Z",
     "iopub.status.idle": "2021-05-06T06:05:25.148814Z",
     "shell.execute_reply": "2021-05-06T06:05:25.149343Z"
    },
    "jupyter": {
     "outputs_hidden": false
    }
   },
   "outputs": [
    {
     "name": "stdout",
     "output_type": "stream",
     "text": [
      "[[0.         0.69314718]\n",
      " [1.09861229 1.38629436]]\n"
     ]
    }
   ],
   "source": [
    "print(np.log(x))"
   ]
  },
  {
   "cell_type": "markdown",
   "metadata": {},
   "source": [
    "There are of course many more elementwise operations inmplemented by `numpy`."
   ]
  },
  {
   "cell_type": "markdown",
   "metadata": {},
   "source": [
    "#### Inner products\n",
    "\n",
    "Unlike MATLAB, `*` is elementwise multiplication, not matrix multiplication (as we saw above).\n",
    "\n",
    "We can instead use the `dot()` function to:\n",
    "- compute inner products of vectors,\n",
    "- multiply a vector by a matrix, and to\n",
    "- multiply matrices, and more generally n-d tensors.\n",
    "\n",
    "The `dot()` function is available both as a function in the numpy module and as an instance\n",
    "method of array objects."
   ]
  },
  {
   "cell_type": "code",
   "execution_count": 98,
   "metadata": {
    "execution": {
     "iopub.execute_input": "2021-05-06T06:05:25.152890Z",
     "iopub.status.busy": "2021-05-06T06:05:25.152338Z",
     "iopub.status.idle": "2021-05-06T06:05:25.168106Z",
     "shell.execute_reply": "2021-05-06T06:05:25.168636Z"
    },
    "jupyter": {
     "outputs_hidden": false
    }
   },
   "outputs": [
    {
     "name": "stdout",
     "output_type": "stream",
     "text": [
      "219\n",
      "219\n"
     ]
    }
   ],
   "source": [
    "v = np.array([9,10])\n",
    "w = np.array([11, 12])\n",
    "\n",
    "# Inner product of vectors; both produce 219\n",
    "print(v.dot(w))\n",
    "print(np.dot(v, w))"
   ]
  },
  {
   "cell_type": "markdown",
   "metadata": {},
   "source": [
    "Rank-1 arrays arrays are somewhat special in that `numpy` can treat them both as column or as row vectors.\n",
    "Arrays of different rank have different semantics when using them in vector-vector or vector-matrix products, so always make sure you known what shapes you're working with:"
   ]
  },
  {
   "cell_type": "code",
   "execution_count": 99,
   "metadata": {
    "execution": {
     "iopub.execute_input": "2021-05-06T06:05:25.172094Z",
     "iopub.status.busy": "2021-05-06T06:05:25.171603Z",
     "iopub.status.idle": "2021-05-06T06:05:25.187780Z",
     "shell.execute_reply": "2021-05-06T06:05:25.188293Z"
    }
   },
   "outputs": [
    {
     "name": "stdout",
     "output_type": "stream",
     "text": [
      "a1\t\t[1 2 3] shape=(3,) dtype=int64\n",
      "a1 * a1 =\t14 shape=() dtype=int64\n",
      "a_row * a1 =\t[14] shape=(1,) dtype=int64\n",
      "a1 * a_col =\t[14] shape=(1,) dtype=int64\n",
      "a_row * a_col =\t[[14]] shape=(1, 1) dtype=int64\n",
      "a_col * a_row =\n",
      "[[1 2 3]\n",
      " [2 4 6]\n",
      " [3 6 9]] shape=(3, 3) dtype=int64\n"
     ]
    }
   ],
   "source": [
    "print_arr(a1, 'a1\\t\\t')\n",
    "\n",
    "# Inner products, but output dimenstions are different\n",
    "print_arr(np.dot(a1, a1), 'a1 * a1 =\\t')\n",
    "\n",
    "print_arr(np.dot(a_row, a1), 'a_row * a1 =\\t')\n",
    "\n",
    "print_arr(np.dot(a1, a_col), 'a1 * a_col =\\t')\n",
    "\n",
    "print_arr(np.dot(a_row, a_col), 'a_row * a_col =\\t')\n",
    "\n",
    "# Outer product\n",
    "print_arr(np.dot(a_col, a_row), 'a_col * a_row =\\n')"
   ]
  },
  {
   "cell_type": "markdown",
   "metadata": {},
   "source": [
    "#### Non-elementwise operations\n",
    "\n",
    "Numpy provides many useful functions for performing computations on arrays."
   ]
  },
  {
   "cell_type": "code",
   "execution_count": 100,
   "metadata": {
    "execution": {
     "iopub.execute_input": "2021-05-06T06:05:25.191191Z",
     "iopub.status.busy": "2021-05-06T06:05:25.190703Z",
     "iopub.status.idle": "2021-05-06T06:05:25.206825Z",
     "shell.execute_reply": "2021-05-06T06:05:25.207438Z"
    },
    "jupyter": {
     "outputs_hidden": false
    }
   },
   "outputs": [
    {
     "name": "stdout",
     "output_type": "stream",
     "text": [
      "[[1 2]\n",
      " [3 4]] shape=(2, 2) dtype=int64\n"
     ]
    }
   ],
   "source": [
    "x = np.array([[1,2],[3,4]])\n",
    "print_arr(x)"
   ]
  },
  {
   "cell_type": "code",
   "execution_count": 101,
   "metadata": {
    "execution": {
     "iopub.execute_input": "2021-05-06T06:05:25.210634Z",
     "iopub.status.busy": "2021-05-06T06:05:25.210154Z",
     "iopub.status.idle": "2021-05-06T06:05:25.227181Z",
     "shell.execute_reply": "2021-05-06T06:05:25.227690Z"
    },
    "jupyter": {
     "outputs_hidden": false
    }
   },
   "outputs": [
    {
     "name": "stdout",
     "output_type": "stream",
     "text": [
      "10\n",
      "[2. 3.]\n",
      "[ 2 12]\n"
     ]
    }
   ],
   "source": [
    "print(np.sum(x))  # Compute sum of all elements\n",
    "print(np.mean(x, axis=0))  # Compute mean of each column\n",
    "print(np.prod(x, axis=1) ) # Compute product of each row"
   ]
  },
  {
   "cell_type": "markdown",
   "metadata": {},
   "source": [
    "You can find the full list of mathematical functions provided by numpy in the [documentation](http://docs.scipy.org/doc/numpy/reference/routines.math.html)."
   ]
  },
  {
   "cell_type": "markdown",
   "metadata": {},
   "source": [
    "### Array indexing"
   ]
  },
  {
   "cell_type": "markdown",
   "metadata": {},
   "source": [
    "Numpy offers several ways to index into arrays."
   ]
  },
  {
   "cell_type": "markdown",
   "metadata": {},
   "source": [
    "**Slicing**\n",
    "\n",
    "Similar to Python lists, numpy arrays can be sliced. Since arrays may be multidimensional, you must specify **a slice for each dimension** of the array:"
   ]
  },
  {
   "cell_type": "code",
   "execution_count": 102,
   "metadata": {
    "execution": {
     "iopub.execute_input": "2021-05-06T06:05:25.231152Z",
     "iopub.status.busy": "2021-05-06T06:05:25.230611Z",
     "iopub.status.idle": "2021-05-06T06:05:25.246371Z",
     "shell.execute_reply": "2021-05-06T06:05:25.246887Z"
    },
    "jupyter": {
     "outputs_hidden": false
    }
   },
   "outputs": [
    {
     "name": "stdout",
     "output_type": "stream",
     "text": [
      "[[ 1  2  3  4]\n",
      " [ 5  6  7  8]\n",
      " [ 9 10 11 12]] shape=(3, 4) dtype=int64\n"
     ]
    }
   ],
   "source": [
    "a = np.array([[1,2,3,4], [5,6,7,8], [9,10,11,12]])\n",
    "\n",
    "print_arr(a)"
   ]
  },
  {
   "cell_type": "code",
   "execution_count": 103,
   "metadata": {
    "execution": {
     "iopub.execute_input": "2021-05-06T06:05:25.249769Z",
     "iopub.status.busy": "2021-05-06T06:05:25.249290Z",
     "iopub.status.idle": "2021-05-06T06:05:25.264896Z",
     "shell.execute_reply": "2021-05-06T06:05:25.265415Z"
    },
    "jupyter": {
     "outputs_hidden": false
    }
   },
   "outputs": [
    {
     "name": "stdout",
     "output_type": "stream",
     "text": [
      "[[2 3]\n",
      " [6 7]] shape=(2, 2) dtype=int64\n"
     ]
    }
   ],
   "source": [
    "b = a[:2, 1:3]\n",
    "\n",
    "print_arr(b)"
   ]
  },
  {
   "cell_type": "markdown",
   "metadata": {},
   "source": [
    "A slice of an array is a **view** into the same in-memory data, so modifying it will modify the original array."
   ]
  },
  {
   "cell_type": "code",
   "execution_count": 104,
   "metadata": {
    "execution": {
     "iopub.execute_input": "2021-05-06T06:05:25.268201Z",
     "iopub.status.busy": "2021-05-06T06:05:25.267729Z",
     "iopub.status.idle": "2021-05-06T06:05:25.284423Z",
     "shell.execute_reply": "2021-05-06T06:05:25.284930Z"
    },
    "jupyter": {
     "outputs_hidden": false
    }
   },
   "outputs": [
    {
     "data": {
      "text/plain": [
       "array([[    1, 77777,     3,     4],\n",
       "       [    5,     6,     7,     8],\n",
       "       [    9,    10,    11,    12]])"
      ]
     },
     "execution_count": 1,
     "metadata": {},
     "output_type": "execute_result"
    }
   ],
   "source": [
    "# Changing a view\n",
    "b[0, 0] = 77777\n",
    "\n",
    "# ...modifies original\n",
    "a"
   ]
  },
  {
   "cell_type": "markdown",
   "metadata": {},
   "source": [
    "You can also mix integer indexing with slice indexing.\n",
    "However, doing so will yield an array of **lower rank** than the original array.\n"
   ]
  },
  {
   "cell_type": "code",
   "execution_count": 105,
   "metadata": {
    "execution": {
     "iopub.execute_input": "2021-05-06T06:05:25.287978Z",
     "iopub.status.busy": "2021-05-06T06:05:25.287502Z",
     "iopub.status.idle": "2021-05-06T06:05:25.304345Z",
     "shell.execute_reply": "2021-05-06T06:05:25.304847Z"
    },
    "jupyter": {
     "outputs_hidden": false
    }
   },
   "outputs": [
    {
     "data": {
      "text/plain": [
       "array([[ 1,  2,  3,  4],\n",
       "       [ 5,  6,  7,  8],\n",
       "       [ 9, 10, 11, 12]])"
      ]
     },
     "execution_count": 1,
     "metadata": {},
     "output_type": "execute_result"
    }
   ],
   "source": [
    "a = np.array([[1,2,3,4], [5,6,7,8], [9,10,11,12]])\n",
    "a"
   ]
  },
  {
   "cell_type": "markdown",
   "metadata": {},
   "source": [
    "Two ways of accessing the data in the middle row of the array.\n",
    "- Mixing integer indexing with slices yields an array of lower rank\n",
    "- Using only slices yields an array of the same rank as the original array"
   ]
  },
  {
   "cell_type": "code",
   "execution_count": 106,
   "metadata": {
    "execution": {
     "iopub.execute_input": "2021-05-06T06:05:25.308103Z",
     "iopub.status.busy": "2021-05-06T06:05:25.307626Z",
     "iopub.status.idle": "2021-05-06T06:05:25.323469Z",
     "shell.execute_reply": "2021-05-06T06:05:25.324012Z"
    },
    "jupyter": {
     "outputs_hidden": false
    }
   },
   "outputs": [
    {
     "name": "stdout",
     "output_type": "stream",
     "text": [
      "[5 6 7 8] shape=(4,) dtype=int64\n",
      "[[5 6 7 8]] shape=(1, 4) dtype=int64\n",
      "[[5 6 7 8]] shape=(1, 4) dtype=int64\n"
     ]
    }
   ],
   "source": [
    "row_r1 = a[1, :]    # Rank 1 view of the second row of a  \n",
    "row_r2 = a[1:2, :]  # Rank 2 view of the second row of a\n",
    "row_r3 = a[[1], :]  # Rank 2 view of the second row of a\n",
    "\n",
    "print_arr(row_r1)\n",
    "print_arr(row_r2)\n",
    "print_arr(row_r3)"
   ]
  },
  {
   "cell_type": "code",
   "execution_count": 107,
   "metadata": {
    "execution": {
     "iopub.execute_input": "2021-05-06T06:05:25.326940Z",
     "iopub.status.busy": "2021-05-06T06:05:25.326453Z",
     "iopub.status.idle": "2021-05-06T06:05:25.342074Z",
     "shell.execute_reply": "2021-05-06T06:05:25.342642Z"
    },
    "jupyter": {
     "outputs_hidden": false
    }
   },
   "outputs": [
    {
     "name": "stdout",
     "output_type": "stream",
     "text": [
      "[ 2  6 10] shape=(3,) dtype=int64\n",
      "[[ 2]\n",
      " [ 6]\n",
      " [10]] shape=(3, 1) dtype=int64\n"
     ]
    }
   ],
   "source": [
    "# We can make the same distinction when accessing columns of an array:\n",
    "col_r1 = a[:, 1]\n",
    "col_r2 = a[:, 1:2]\n",
    "\n",
    "print_arr(col_r1)\n",
    "print_arr(col_r2)"
   ]
  },
  {
   "cell_type": "markdown",
   "metadata": {},
   "source": [
    "**Integer array indexing** \n",
    "\n",
    "- When you slice, the resulting array view will always be a subarray of the original array.\n",
    "- Integer array indexing allows you to construct arbitrary arrays using the data from another array.\n"
   ]
  },
  {
   "cell_type": "code",
   "execution_count": 108,
   "metadata": {
    "execution": {
     "iopub.execute_input": "2021-05-06T06:05:25.345666Z",
     "iopub.status.busy": "2021-05-06T06:05:25.345199Z",
     "iopub.status.idle": "2021-05-06T06:05:25.360965Z",
     "shell.execute_reply": "2021-05-06T06:05:25.361512Z"
    },
    "jupyter": {
     "outputs_hidden": false
    }
   },
   "outputs": [
    {
     "name": "stdout",
     "output_type": "stream",
     "text": [
      "[[1 2]\n",
      " [3 4]\n",
      " [5 6]] shape=(3, 2) dtype=int64\n"
     ]
    }
   ],
   "source": [
    "a = np.array([[1,2], [3, 4], [5, 6]])\n",
    "print_arr(a)"
   ]
  },
  {
   "cell_type": "code",
   "execution_count": 109,
   "metadata": {
    "execution": {
     "iopub.execute_input": "2021-05-06T06:05:25.364491Z",
     "iopub.status.busy": "2021-05-06T06:05:25.364028Z",
     "iopub.status.idle": "2021-05-06T06:05:25.380135Z",
     "shell.execute_reply": "2021-05-06T06:05:25.380672Z"
    },
    "jupyter": {
     "outputs_hidden": false
    }
   },
   "outputs": [
    {
     "name": "stdout",
     "output_type": "stream",
     "text": [
      "[1 4 5] shape=(3,) dtype=int64\n"
     ]
    }
   ],
   "source": [
    "# An example of integer array indexing.\n",
    "# The returned array will have shape (3,)\n",
    "print_arr(a[ [0, 1, 2], [0, 1, 0] ])"
   ]
  },
  {
   "cell_type": "code",
   "execution_count": 110,
   "metadata": {
    "execution": {
     "iopub.execute_input": "2021-05-06T06:05:25.383595Z",
     "iopub.status.busy": "2021-05-06T06:05:25.383129Z",
     "iopub.status.idle": "2021-05-06T06:05:25.398499Z",
     "shell.execute_reply": "2021-05-06T06:05:25.399034Z"
    },
    "jupyter": {
     "outputs_hidden": false
    }
   },
   "outputs": [
    {
     "name": "stdout",
     "output_type": "stream",
     "text": [
      "[1 4 5] shape=(3,) dtype=int64\n"
     ]
    }
   ],
   "source": [
    "# The above example of integer array indexing is equivalent to this:\n",
    "print_arr(np.array([a[0, 0], a[1, 1], a[2, 0]]))"
   ]
  },
  {
   "cell_type": "code",
   "execution_count": 111,
   "metadata": {
    "execution": {
     "iopub.execute_input": "2021-05-06T06:05:25.402155Z",
     "iopub.status.busy": "2021-05-06T06:05:25.401689Z",
     "iopub.status.idle": "2021-05-06T06:05:25.418167Z",
     "shell.execute_reply": "2021-05-06T06:05:25.418687Z"
    },
    "jupyter": {
     "outputs_hidden": false
    }
   },
   "outputs": [
    {
     "name": "stdout",
     "output_type": "stream",
     "text": [
      "[2 2]\n",
      "[2 2]\n"
     ]
    }
   ],
   "source": [
    "# When using integer array indexing, you can reuse the same\n",
    "# element from the source array:\n",
    "print(a[[0, 0], [1, 1]])\n",
    "\n",
    "# Equivalent to the previous integer array indexing example\n",
    "print(np.array([a[0, 1], a[0, 1]]))"
   ]
  },
  {
   "cell_type": "markdown",
   "metadata": {},
   "source": [
    "One useful trick with integer array indexing is selecting or mutating one element from each row of a matrix:"
   ]
  },
  {
   "cell_type": "code",
   "execution_count": 112,
   "metadata": {
    "execution": {
     "iopub.execute_input": "2021-05-06T06:05:25.422007Z",
     "iopub.status.busy": "2021-05-06T06:05:25.421518Z",
     "iopub.status.idle": "2021-05-06T06:05:25.438260Z",
     "shell.execute_reply": "2021-05-06T06:05:25.438827Z"
    },
    "jupyter": {
     "outputs_hidden": false
    }
   },
   "outputs": [
    {
     "data": {
      "text/plain": [
       "array([[ 1,  2,  3],\n",
       "       [ 4,  5,  6],\n",
       "       [ 7,  8,  9],\n",
       "       [10, 11, 12]])"
      ]
     },
     "execution_count": 1,
     "metadata": {},
     "output_type": "execute_result"
    }
   ],
   "source": [
    "# Create a new array from which we will select elements\n",
    "a = np.array([[1,2,3], [4,5,6], [7,8,9], [10, 11, 12]])\n",
    "a"
   ]
  },
  {
   "cell_type": "code",
   "execution_count": 113,
   "metadata": {
    "execution": {
     "iopub.execute_input": "2021-05-06T06:05:25.441955Z",
     "iopub.status.busy": "2021-05-06T06:05:25.441461Z",
     "iopub.status.idle": "2021-05-06T06:05:25.457845Z",
     "shell.execute_reply": "2021-05-06T06:05:25.458363Z"
    },
    "jupyter": {
     "outputs_hidden": false
    }
   },
   "outputs": [
    {
     "data": {
      "text/plain": [
       "array([ 1,  6,  7, 11])"
      ]
     },
     "execution_count": 1,
     "metadata": {},
     "output_type": "execute_result"
    }
   ],
   "source": [
    "# Create an array of indices\n",
    "b = np.array([0, 2, 0, 1])\n",
    "\n",
    "# Select one element from each row of a using the indices in b\n",
    "a[np.arange(4), b]"
   ]
  },
  {
   "cell_type": "code",
   "execution_count": 114,
   "metadata": {
    "execution": {
     "iopub.execute_input": "2021-05-06T06:05:25.461221Z",
     "iopub.status.busy": "2021-05-06T06:05:25.460745Z",
     "iopub.status.idle": "2021-05-06T06:05:25.477788Z",
     "shell.execute_reply": "2021-05-06T06:05:25.477301Z"
    },
    "jupyter": {
     "outputs_hidden": false
    }
   },
   "outputs": [
    {
     "data": {
      "text/plain": [
       "array([[1001,    2,    3],\n",
       "       [   4,    5, 1006],\n",
       "       [1007,    8,    9],\n",
       "       [  10, 1011,   12]])"
      ]
     },
     "execution_count": 1,
     "metadata": {},
     "output_type": "execute_result"
    }
   ],
   "source": [
    "# Mutate one element from each row of a using the indices in b\n",
    "a[np.arange(4), b] += 1000\n",
    "a"
   ]
  },
  {
   "cell_type": "markdown",
   "metadata": {},
   "source": [
    "**Boolean array indexing**\n",
    "\n",
    "This type of indexing is used to select the elements of an array that satisfy some condition\n",
    "(similar to MATLAB's logical indexing)."
   ]
  },
  {
   "cell_type": "code",
   "execution_count": 115,
   "metadata": {
    "execution": {
     "iopub.execute_input": "2021-05-06T06:05:25.480872Z",
     "iopub.status.busy": "2021-05-06T06:05:25.480378Z",
     "iopub.status.idle": "2021-05-06T06:05:25.495250Z",
     "shell.execute_reply": "2021-05-06T06:05:25.495774Z"
    },
    "jupyter": {
     "outputs_hidden": false
    }
   },
   "outputs": [
    {
     "name": "stdout",
     "output_type": "stream",
     "text": [
      "[[1 2]\n",
      " [3 4]\n",
      " [5 6]] shape=(3, 2) dtype=int64\n"
     ]
    }
   ],
   "source": [
    "a = np.array([[1,2], [3, 4], [5, 6]])\n",
    "print_arr(a)"
   ]
  },
  {
   "cell_type": "code",
   "execution_count": 116,
   "metadata": {
    "execution": {
     "iopub.execute_input": "2021-05-06T06:05:25.498731Z",
     "iopub.status.busy": "2021-05-06T06:05:25.498268Z",
     "iopub.status.idle": "2021-05-06T06:05:25.514248Z",
     "shell.execute_reply": "2021-05-06T06:05:25.514769Z"
    },
    "jupyter": {
     "outputs_hidden": false
    }
   },
   "outputs": [
    {
     "data": {
      "text/plain": [
       "array([[False, False],\n",
       "       [ True,  True],\n",
       "       [ True,  True]])"
      ]
     },
     "execution_count": 1,
     "metadata": {},
     "output_type": "execute_result"
    }
   ],
   "source": [
    "bool_idx = (a > 2)  # Find the elements of a that are bigger than 2;\n",
    "                    # this returns a numpy array of Booleans of the same\n",
    "                    # shape as a, where each slot of bool_idx tells\n",
    "                    # whether that element of a is > 2.\n",
    "\n",
    "bool_idx"
   ]
  },
  {
   "cell_type": "code",
   "execution_count": 117,
   "metadata": {
    "execution": {
     "iopub.execute_input": "2021-05-06T06:05:25.517438Z",
     "iopub.status.busy": "2021-05-06T06:05:25.516974Z",
     "iopub.status.idle": "2021-05-06T06:05:25.536139Z",
     "shell.execute_reply": "2021-05-06T06:05:25.536767Z"
    },
    "jupyter": {
     "outputs_hidden": false
    }
   },
   "outputs": [
    {
     "data": {
      "text/plain": [
       "array([3, 4, 5, 6])"
      ]
     },
     "execution_count": 1,
     "metadata": {},
     "output_type": "execute_result"
    }
   ],
   "source": [
    "# We use boolean array indexing to construct a rank 1 array\n",
    "# consisting of the elements of a corresponding to the True values\n",
    "# of bool_idx\n",
    "a[a>2]"
   ]
  },
  {
   "cell_type": "markdown",
   "metadata": {},
   "source": [
    "For brevity we have left out a lot of details about numpy array indexing; if you want to know more you should read the [documentation](https://docs.scipy.org/doc/numpy/reference/arrays.indexing.html)."
   ]
  },
  {
   "cell_type": "markdown",
   "metadata": {},
   "source": [
    "### Datatypes"
   ]
  },
  {
   "cell_type": "markdown",
   "metadata": {},
   "source": [
    "Every numpy array is a grid of elements of the same type. Numpy provides a large set of numeric datatypes that you can use to construct arrays. Numpy tries to guess a datatype when you create an array, but functions that construct arrays usually also include an optional argument to explicitly specify the datatype. Here is an example:"
   ]
  },
  {
   "cell_type": "code",
   "execution_count": 118,
   "metadata": {
    "execution": {
     "iopub.execute_input": "2021-05-06T06:05:25.540337Z",
     "iopub.status.busy": "2021-05-06T06:05:25.539850Z",
     "iopub.status.idle": "2021-05-06T06:05:25.555964Z",
     "shell.execute_reply": "2021-05-06T06:05:25.556510Z"
    },
    "jupyter": {
     "outputs_hidden": false
    }
   },
   "outputs": [
    {
     "data": {
      "text/plain": [
       "(dtype('int64'), dtype('float64'), dtype('int64'))"
      ]
     },
     "execution_count": 1,
     "metadata": {},
     "output_type": "execute_result"
    }
   ],
   "source": [
    "x = np.array([1, 2])  # Let numpy choose the datatype\n",
    "y = np.array([1.0, 2.0])  # Let numpy choose the datatype\n",
    "z = np.array([1, 2], dtype=np.int64)  # Force a particular datatype\n",
    "\n",
    "x.dtype, y.dtype, z.dtype"
   ]
  },
  {
   "cell_type": "markdown",
   "metadata": {},
   "source": [
    "You can read all about numpy datatypes in the [documentation](http://docs.scipy.org/doc/numpy/reference/arrays.dtypes.html)."
   ]
  },
  {
   "cell_type": "markdown",
   "metadata": {},
   "source": [
    "### Changing and adding dimensions"
   ]
  },
  {
   "cell_type": "markdown",
   "metadata": {},
   "source": [
    "You can **transpose** dimensions within an array using arbitrary axis permutations."
   ]
  },
  {
   "cell_type": "code",
   "execution_count": 119,
   "metadata": {
    "execution": {
     "iopub.execute_input": "2021-05-06T06:05:25.559633Z",
     "iopub.status.busy": "2021-05-06T06:05:25.559165Z",
     "iopub.status.idle": "2021-05-06T06:05:25.574538Z",
     "shell.execute_reply": "2021-05-06T06:05:25.575089Z"
    }
   },
   "outputs": [
    {
     "name": "stdout",
     "output_type": "stream",
     "text": [
      "[[1. 1. 1.]\n",
      " [1. 1. 1.]\n",
      " [1. 1. 1.]\n",
      " [1. 1. 1.]\n",
      " [1. 1. 1.]] shape=(5, 3) dtype=float64\n"
     ]
    }
   ],
   "source": [
    "a = np.ones((3, 5))\n",
    "print_arr(a.transpose()) # also a.T"
   ]
  },
  {
   "cell_type": "code",
   "execution_count": 120,
   "metadata": {
    "execution": {
     "iopub.execute_input": "2021-05-06T06:05:25.578305Z",
     "iopub.status.busy": "2021-05-06T06:05:25.577842Z",
     "iopub.status.idle": "2021-05-06T06:05:25.593174Z",
     "shell.execute_reply": "2021-05-06T06:05:25.593670Z"
    }
   },
   "outputs": [
    {
     "name": "stdout",
     "output_type": "stream",
     "text": [
      "[[[  1.   1.   1.   1.   1.   1.]\n",
      "  [  1.   1.   1.   1.   1.   1.]]\n",
      "\n",
      " [[  1.   1.   1.   1.   1.   1.]\n",
      "  [  1.   1.   1.   1.   1.   1.]]\n",
      "\n",
      " [[  1.   1.   1.   1.   1.   1.]\n",
      "  [  1.   1.   1. 777.   1.   1.]]\n",
      "\n",
      " [[  1.   1.   1.   1.   1.   1.]\n",
      "  [  1.   1.   1.   1.   1.   1.]]] shape=(4, 2, 6) dtype=float64\n"
     ]
    }
   ],
   "source": [
    "a = np.ones((2, 4, 6))\n",
    "a[1,2,3] = 777\n",
    "\n",
    "print_arr(a.transpose(1,0,2))"
   ]
  },
  {
   "cell_type": "markdown",
   "metadata": {},
   "source": [
    "Note that an element `[x,y,z]` moves to position `[y,x,z]` after a transpose with this permutation (1,0,2)."
   ]
  },
  {
   "cell_type": "markdown",
   "metadata": {},
   "source": [
    "Another important feature is **reshaping** an array into different dimensions."
   ]
  },
  {
   "cell_type": "code",
   "execution_count": 121,
   "metadata": {
    "execution": {
     "iopub.execute_input": "2021-05-06T06:05:25.596853Z",
     "iopub.status.busy": "2021-05-06T06:05:25.596393Z",
     "iopub.status.idle": "2021-05-06T06:05:25.611965Z",
     "shell.execute_reply": "2021-05-06T06:05:25.612555Z"
    }
   },
   "outputs": [
    {
     "name": "stdout",
     "output_type": "stream",
     "text": [
      "[[1. 1. 1. 1. 1. 1. 1. 1. 1.]\n",
      " [1. 1. 1. 1. 1. 1. 1. 1. 1.]] shape=(2, 9) dtype=float64\n"
     ]
    }
   ],
   "source": [
    "a = np.ones((3, 6))\n",
    "print_arr(np.reshape(a, (2, 9)))"
   ]
  },
  {
   "cell_type": "markdown",
   "metadata": {},
   "source": [
    "When reshaping, we need to make sure to preserve the same number of elements.\n",
    "Use `-1` in one of the dimensions to tell numpy to \"figure it out\"."
   ]
  },
  {
   "cell_type": "markdown",
   "metadata": {},
   "source": [
    "You can also combine multiple arrays with **concatenation** along an arbitrary axis."
   ]
  },
  {
   "cell_type": "code",
   "execution_count": 122,
   "metadata": {
    "execution": {
     "iopub.execute_input": "2021-05-06T06:05:25.615878Z",
     "iopub.status.busy": "2021-05-06T06:05:25.615391Z",
     "iopub.status.idle": "2021-05-06T06:05:25.630861Z",
     "shell.execute_reply": "2021-05-06T06:05:25.631363Z"
    }
   },
   "outputs": [
    {
     "name": "stdout",
     "output_type": "stream",
     "text": [
      "[[1 2]\n",
      " [3 4]] shape=(2, 2) dtype=int64\n",
      "[[5 6]] shape=(1, 2) dtype=int64\n"
     ]
    }
   ],
   "source": [
    "a = np.array([[1, 2], [3, 4]])\n",
    "b = np.array([[5, 6]])\n",
    "print_arr(a)\n",
    "print_arr(b)"
   ]
  },
  {
   "cell_type": "code",
   "execution_count": 123,
   "metadata": {
    "execution": {
     "iopub.execute_input": "2021-05-06T06:05:25.634436Z",
     "iopub.status.busy": "2021-05-06T06:05:25.633959Z",
     "iopub.status.idle": "2021-05-06T06:05:25.649551Z",
     "shell.execute_reply": "2021-05-06T06:05:25.650057Z"
    }
   },
   "outputs": [
    {
     "name": "stdout",
     "output_type": "stream",
     "text": [
      "[[1 2]\n",
      " [3 4]\n",
      " [5 6]] shape=(3, 2) dtype=int64\n"
     ]
    }
   ],
   "source": [
    "print_arr(np.concatenate((a, b), axis=0))"
   ]
  },
  {
   "cell_type": "code",
   "execution_count": 124,
   "metadata": {
    "execution": {
     "iopub.execute_input": "2021-05-06T06:05:25.652939Z",
     "iopub.status.busy": "2021-05-06T06:05:25.652466Z",
     "iopub.status.idle": "2021-05-06T06:05:25.668936Z",
     "shell.execute_reply": "2021-05-06T06:05:25.669484Z"
    }
   },
   "outputs": [
    {
     "name": "stdout",
     "output_type": "stream",
     "text": [
      "[[1 2 5]\n",
      " [3 4 6]] shape=(2, 3) dtype=int64\n"
     ]
    }
   ],
   "source": [
    "print_arr(np.concatenate((a, b.T), axis=1))"
   ]
  },
  {
   "cell_type": "code",
   "execution_count": 125,
   "metadata": {
    "execution": {
     "iopub.execute_input": "2021-05-06T06:05:25.672165Z",
     "iopub.status.busy": "2021-05-06T06:05:25.671693Z",
     "iopub.status.idle": "2021-05-06T06:05:25.687191Z",
     "shell.execute_reply": "2021-05-06T06:05:25.687686Z"
    }
   },
   "outputs": [
    {
     "name": "stdout",
     "output_type": "stream",
     "text": [
      "[1 2 3 4 5 6] shape=(6,) dtype=int64\n"
     ]
    }
   ],
   "source": [
    "print_arr(np.concatenate((a, b), axis=None))"
   ]
  },
  {
   "cell_type": "markdown",
   "metadata": {},
   "source": [
    "### Broadcasting"
   ]
  },
  {
   "cell_type": "markdown",
   "metadata": {},
   "source": [
    "Broadcasting is a powerful mechanism that allows numpy to work with arrays of **different shapes** when performing arithmetic operations.\n",
    "\n",
    "Frequently we have a smaller array and a larger array, and we want to use the smaller array multiple times to perform some operation on the larger array.\n",
    "\n",
    "For example, suppose that we want to add a constant vector to each row of a matrix."
   ]
  },
  {
   "cell_type": "code",
   "execution_count": 126,
   "metadata": {
    "execution": {
     "iopub.execute_input": "2021-05-06T06:05:25.691492Z",
     "iopub.status.busy": "2021-05-06T06:05:25.691014Z",
     "iopub.status.idle": "2021-05-06T06:05:25.706918Z",
     "shell.execute_reply": "2021-05-06T06:05:25.707486Z"
    },
    "jupyter": {
     "outputs_hidden": false
    }
   },
   "outputs": [
    {
     "name": "stdout",
     "output_type": "stream",
     "text": [
      "x=\n",
      "[[ 1  2  3]\n",
      " [ 4  5  6]\n",
      " [ 7  8  9]\n",
      " [10 11 12]] shape=(4, 3) dtype=int64\n",
      "\n",
      "v=[1 0 1] shape=(3,) dtype=int64\n"
     ]
    }
   ],
   "source": [
    "# We will add the vector v to each row of the matrix x,\n",
    "# storing the result in the matrix y\n",
    "x = np.array([[1,2,3], [4,5,6], [7,8,9], [10, 11, 12]])\n",
    "v = np.array([1, 0, 1])\n",
    "y = np.empty_like(x)   # Create an empty matrix with the same shape as x\n",
    "\n",
    "print_arr(x,'x=\\n')\n",
    "print_arr(v, '\\nv=')"
   ]
  },
  {
   "cell_type": "markdown",
   "metadata": {},
   "source": [
    "**Naïve approach**: Use a loop."
   ]
  },
  {
   "cell_type": "code",
   "execution_count": 127,
   "metadata": {
    "execution": {
     "iopub.execute_input": "2021-05-06T06:05:25.710485Z",
     "iopub.status.busy": "2021-05-06T06:05:25.710001Z",
     "iopub.status.idle": "2021-05-06T06:05:25.726850Z",
     "shell.execute_reply": "2021-05-06T06:05:25.727386Z"
    },
    "jupyter": {
     "outputs_hidden": false
    }
   },
   "outputs": [
    {
     "data": {
      "text/plain": [
       "array([[ 2,  2,  4],\n",
       "       [ 5,  5,  7],\n",
       "       [ 8,  8, 10],\n",
       "       [11, 11, 13]])"
      ]
     },
     "execution_count": 1,
     "metadata": {},
     "output_type": "execute_result"
    }
   ],
   "source": [
    "# Add the vector v to each row of the matrix x with an explicit loop\n",
    "for i in range(4):\n",
    "    y[i, :] = x[i, :] + v\n",
    "\n",
    "y"
   ]
  },
  {
   "cell_type": "markdown",
   "metadata": {},
   "source": [
    "This works; however computing explicit loops in Python is **slow**. "
   ]
  },
  {
   "cell_type": "markdown",
   "metadata": {},
   "source": [
    "**Naïve approach 2**: adding the vector v to each row of the matrix `x` is equivalent to forming a matrix `vv` by stacking multiple copies of `v` vertically, then performing elementwise summation of `x` and `vv`.\n",
    "\n",
    "We could implement this approach like this:"
   ]
  },
  {
   "cell_type": "code",
   "execution_count": 128,
   "metadata": {
    "execution": {
     "iopub.execute_input": "2021-05-06T06:05:25.730716Z",
     "iopub.status.busy": "2021-05-06T06:05:25.730208Z",
     "iopub.status.idle": "2021-05-06T06:05:25.746838Z",
     "shell.execute_reply": "2021-05-06T06:05:25.747385Z"
    },
    "jupyter": {
     "outputs_hidden": false
    }
   },
   "outputs": [
    {
     "data": {
      "text/plain": [
       "array([[1, 0, 1],\n",
       "       [1, 0, 1],\n",
       "       [1, 0, 1],\n",
       "       [1, 0, 1]])"
      ]
     },
     "execution_count": 1,
     "metadata": {},
     "output_type": "execute_result"
    }
   ],
   "source": [
    "vv = np.tile(v, (4, 1))  # Stack 4 copies of v on top of each other\n",
    "vv"
   ]
  },
  {
   "cell_type": "code",
   "execution_count": 129,
   "metadata": {
    "execution": {
     "iopub.execute_input": "2021-05-06T06:05:25.750036Z",
     "iopub.status.busy": "2021-05-06T06:05:25.749554Z",
     "iopub.status.idle": "2021-05-06T06:05:25.765407Z",
     "shell.execute_reply": "2021-05-06T06:05:25.765923Z"
    },
    "jupyter": {
     "outputs_hidden": false
    }
   },
   "outputs": [
    {
     "data": {
      "text/plain": [
       "array([[ 2,  2,  4],\n",
       "       [ 5,  5,  7],\n",
       "       [ 8,  8, 10],\n",
       "       [11, 11, 13]])"
      ]
     },
     "execution_count": 1,
     "metadata": {},
     "output_type": "execute_result"
    }
   ],
   "source": [
    "y = x + vv  # Add x and vv elementwise\n",
    "y"
   ]
  },
  {
   "cell_type": "markdown",
   "metadata": {},
   "source": [
    "Nice, but a new array was allocated and memory was copied."
   ]
  },
  {
   "cell_type": "markdown",
   "metadata": {},
   "source": [
    "**Numpy broadcasting** allows us to perform this computation without actually creating multiple copies of v. Consider this version, using broadcasting:"
   ]
  },
  {
   "cell_type": "code",
   "execution_count": 130,
   "metadata": {
    "execution": {
     "iopub.execute_input": "2021-05-06T06:05:25.769586Z",
     "iopub.status.busy": "2021-05-06T06:05:25.769105Z",
     "iopub.status.idle": "2021-05-06T06:05:25.788519Z",
     "shell.execute_reply": "2021-05-06T06:05:25.789057Z"
    },
    "jupyter": {
     "outputs_hidden": false
    }
   },
   "outputs": [
    {
     "name": "stdout",
     "output_type": "stream",
     "text": [
      "shapes: x.shape=(4, 3), v.shape=(3,)\n",
      "\n"
     ]
    },
    {
     "data": {
      "text/plain": [
       "array([[ 2,  2,  4],\n",
       "       [ 5,  5,  7],\n",
       "       [ 8,  8, 10],\n",
       "       [11, 11, 13]])"
      ]
     },
     "execution_count": 1,
     "metadata": {},
     "output_type": "execute_result"
    }
   ],
   "source": [
    "x = np.array([[1,2,3], [4,5,6], [7,8,9], [10, 11, 12]])\n",
    "v = np.array([1, 0, 1])\n",
    "\n",
    "# Add v to each row of x using broadcasting\n",
    "y = x + v  \n",
    "\n",
    "print(f'shapes: {x.shape=}, {v.shape=}\\n')\n",
    "y"
   ]
  },
  {
   "cell_type": "markdown",
   "metadata": {},
   "source": [
    "The line `y = x + v` works even though `x` has shape `(4, 3)` and `v` has shape `(3,)` due to broadcasting; this line works **as if** v actually had shape `(4, 3)`, where each row was a copy of `v`, and the sum was performed elementwise."
   ]
  },
  {
   "cell_type": "markdown",
   "metadata": {},
   "source": [
    "Broadcasting two arrays together follows these rules:\n",
    "\n",
    "1. All input arrays with ndim smaller than the input array of largest ndim, have **1’s prepended to their shapes**.\n",
    "1. The size in each dimension of the **output shape** is the maximum of all the input sizes in that dimension.\n",
    "1. An input can be used in the calculation if its size in a particular **dimension either matches** the output size in that dimension, **or has value exactly 1**.\n",
    "1. If an input has a dimension size of 1 in its shape, the **first data entry in that dimension will be used for all calculations** along that dimension. In other words, the stepping machinery of the ufunc will simply not step along that dimension (the stride will be 0 for that dimension)."
   ]
  },
  {
   "cell_type": "markdown",
   "metadata": {},
   "source": [
    "In our example:\n",
    "- `x` has shape `(4,3)`\n",
    "- `v` has shape `(3,)`.\n",
    "\n",
    "Following the Broadcasting logic, we can say the following is equivalent to what happened:\n",
    "1. `v` has less dims than `x` so a dimension of `1` is **prepended** -> `v` is now `(1, 3)`.\n",
    "1. Output shape will be `(max(1,4), max(3,3)) = (4,3)`.\n",
    "1. Dim 1 of `v` matches exactly (3); dim 0 is exactly 1, so we can use the first data entry (row 0) for each time any row is accessed. This is effectively like converting `v` from `(1,3)` to `(4,3)` by replicating."
   ]
  },
  {
   "cell_type": "markdown",
   "metadata": {},
   "source": [
    "Broadcasting is incredibly useful and necessary for writing **vectorized** code,\n",
    "i.e. code that avoids explicit python loops which are very slow.\n",
    "Instead, this approach leveraged the underlying C implementation of numpy."
   ]
  },
  {
   "cell_type": "markdown",
   "metadata": {},
   "source": [
    "For more on broadcasting, see the [documentation](http://docs.scipy.org/doc/numpy/user/basics.broadcasting.html) or this [explanation](http://wiki.scipy.org/EricsBroadcastingDoc).\n",
    "\n",
    "Functions that support broadcasting are known as universal functions. You can find the list of all universal functions in the [documentation](http://docs.scipy.org/doc/numpy/reference/ufuncs.html#available-ufuncs)."
   ]
  },
  {
   "cell_type": "markdown",
   "metadata": {},
   "source": [
    "Here are some applications of broadcasting:"
   ]
  },
  {
   "cell_type": "code",
   "execution_count": 131,
   "metadata": {
    "execution": {
     "iopub.execute_input": "2021-05-06T06:05:25.792513Z",
     "iopub.status.busy": "2021-05-06T06:05:25.792013Z",
     "iopub.status.idle": "2021-05-06T06:05:25.807827Z",
     "shell.execute_reply": "2021-05-06T06:05:25.808361Z"
    },
    "jupyter": {
     "outputs_hidden": false
    }
   },
   "outputs": [
    {
     "name": "stdout",
     "output_type": "stream",
     "text": [
      "[1 2 3] shape=(3,) dtype=int64\n",
      "[4 5] shape=(2,) dtype=int64\n"
     ]
    }
   ],
   "source": [
    "# Compute outer product of vectors\n",
    "v = np.array([1,2,3])  # v has shape (3,)\n",
    "w = np.array([4,5])    # w has shape (2,)\n",
    "print_arr(v)\n",
    "print_arr(w)"
   ]
  },
  {
   "cell_type": "code",
   "execution_count": 132,
   "metadata": {
    "execution": {
     "iopub.execute_input": "2021-05-06T06:05:25.811548Z",
     "iopub.status.busy": "2021-05-06T06:05:25.811064Z",
     "iopub.status.idle": "2021-05-06T06:05:25.826713Z",
     "shell.execute_reply": "2021-05-06T06:05:25.827279Z"
    },
    "jupyter": {
     "outputs_hidden": false
    }
   },
   "outputs": [
    {
     "data": {
      "text/plain": [
       "array([[ 4,  5],\n",
       "       [ 8, 10],\n",
       "       [12, 15]])"
      ]
     },
     "execution_count": 1,
     "metadata": {},
     "output_type": "execute_result"
    }
   ],
   "source": [
    "# To compute an outer product, we first reshape v to be a column\n",
    "# vector of shape (3, 1); we can then broadcast it against w to yield\n",
    "# an output of shape (3, 2), which is the outer product of v and w:\n",
    "\n",
    "# (3,1) * (2,) -> (3,1) * (1, 2) -> (3, 2) * (3, 2)\n",
    "np.reshape(v, (3, 1)) * w"
   ]
  },
  {
   "cell_type": "code",
   "execution_count": 133,
   "metadata": {
    "execution": {
     "iopub.execute_input": "2021-05-06T06:05:25.830033Z",
     "iopub.status.busy": "2021-05-06T06:05:25.829556Z",
     "iopub.status.idle": "2021-05-06T06:05:25.846465Z",
     "shell.execute_reply": "2021-05-06T06:05:25.846069Z"
    },
    "jupyter": {
     "outputs_hidden": false
    }
   },
   "outputs": [
    {
     "data": {
      "text/plain": [
       "array([[2., 2., 2.],\n",
       "       [2., 2., 2.]])"
      ]
     },
     "execution_count": 1,
     "metadata": {},
     "output_type": "execute_result"
    }
   ],
   "source": [
    "# Multiply a matrix by a constant:\n",
    "x = np.ones((2,3))\n",
    "\n",
    "# x has shape (2, 3). Numpy treats scalars as arrays of shape ();\n",
    "# these can be broadcast together to shape (2, 3).\n",
    "\n",
    "# (2,3) * () -> (2,3) * (1,1) -> (2,3) * (2,3)\n",
    "x * 2"
   ]
  },
  {
   "cell_type": "markdown",
   "metadata": {},
   "source": [
    "Broadcasting typically makes your code more concise and faster, so you should strive to use it where possible."
   ]
  },
  {
   "cell_type": "markdown",
   "metadata": {},
   "source": [
    "This brief overview has touched on many of the important things that you need to know about numpy, but is far from complete. Check out the [numpy reference](http://docs.scipy.org/doc/numpy/reference/) to find out much more about numpy."
   ]
  },
  {
   "cell_type": "markdown",
   "metadata": {},
   "source": [
    "## PyTorch Tensors"
   ]
  },
  {
   "cell_type": "code",
   "execution_count": 134,
   "metadata": {
    "execution": {
     "iopub.execute_input": "2021-05-06T06:05:25.849361Z",
     "iopub.status.busy": "2021-05-06T06:05:25.848884Z",
     "iopub.status.idle": "2021-05-06T06:05:26.488236Z",
     "shell.execute_reply": "2021-05-06T06:05:26.488803Z"
    }
   },
   "outputs": [
    {
     "data": {
      "text/plain": [
       "'1.6.0'"
      ]
     },
     "execution_count": 1,
     "metadata": {},
     "output_type": "execute_result"
    }
   ],
   "source": [
    "import torch\n",
    "torch.__version__"
   ]
  },
  {
   "cell_type": "markdown",
   "metadata": {},
   "source": [
    "PyTorch is a relatively new yet widely used deep learning framework.\n",
    "\n",
    "During the course we'll use it extensively and learn many parts of its API.\n",
    "You should also familiarize yourself with the [PyTorch Documentation](https://pytorch.org/docs/stable/) as it will greatly assist you when implementing your own models."
   ]
  },
  {
   "cell_type": "markdown",
   "metadata": {},
   "source": [
    "This notebook will show only **a small part** of PyTorch's API, the `Tensor` class.\n",
    "This class is very similar to numpy's `ndarray`, and provides much of the same functionality.\n",
    "However, it also has two important distinctions:\n",
    "- Support for GPU computations.\n",
    "- Can store extra data needed for implementing **automatic differentiation** used for back propagation:\n",
    "    - A tensor of the same dimentions containing the gradient of this tensor w.r.t. some scalar (e.g. loss).\n",
    "    - A node representing an operation in the computational graph that produced this tensor.\n",
    "\n",
    "In the next tutorials we will examine these concepts further."
   ]
  },
  {
   "cell_type": "markdown",
   "metadata": {},
   "source": [
    "This notebook will show some brief examples, just to get a feel for it and compare it to the usual numpy `ndarray`s.\n",
    "\n",
    "You will be using both PyTorch tensors and numpy `ndarray`s extensively throughout the course homework assignments, and in general when implementing deep learning algorithms."
   ]
  },
  {
   "cell_type": "code",
   "execution_count": 135,
   "metadata": {
    "execution": {
     "iopub.execute_input": "2021-05-06T06:05:26.491968Z",
     "iopub.status.busy": "2021-05-06T06:05:26.491487Z",
     "iopub.status.idle": "2021-05-06T06:05:26.529574Z",
     "shell.execute_reply": "2021-05-06T06:05:26.530214Z"
    }
   },
   "outputs": [
    {
     "name": "stdout",
     "output_type": "stream",
     "text": [
      "tensor([[1., 2., 3.],\n",
      "        [4., 5., 6.]]) shape=torch.Size([2, 3]) dtype=torch.float32\n"
     ]
    }
   ],
   "source": [
    "# Basic tensor creation\n",
    "t = torch.tensor([[1, 2, 3], [4, 5, 6]], dtype=torch.float32)\n",
    "\n",
    "print_arr(t)"
   ]
  },
  {
   "cell_type": "markdown",
   "metadata": {},
   "source": [
    "Some other tensor construction methods:"
   ]
  },
  {
   "cell_type": "code",
   "execution_count": 136,
   "metadata": {
    "execution": {
     "iopub.execute_input": "2021-05-06T06:05:26.533789Z",
     "iopub.status.busy": "2021-05-06T06:05:26.533322Z",
     "iopub.status.idle": "2021-05-06T06:05:26.554812Z",
     "shell.execute_reply": "2021-05-06T06:05:26.555303Z"
    }
   },
   "outputs": [
    {
     "data": {
      "text/plain": [
       "tensor([[0., 0.]])"
      ]
     },
     "execution_count": 1,
     "metadata": {},
     "output_type": "execute_result"
    }
   ],
   "source": [
    "torch.zeros((1,2))"
   ]
  },
  {
   "cell_type": "code",
   "execution_count": 137,
   "metadata": {
    "execution": {
     "iopub.execute_input": "2021-05-06T06:05:26.558443Z",
     "iopub.status.busy": "2021-05-06T06:05:26.557963Z",
     "iopub.status.idle": "2021-05-06T06:05:26.581278Z",
     "shell.execute_reply": "2021-05-06T06:05:26.581817Z"
    }
   },
   "outputs": [
    {
     "data": {
      "text/plain": [
       "tensor([[1., 1.],\n",
       "        [1., 1.],\n",
       "        [1., 1.]])"
      ]
     },
     "execution_count": 1,
     "metadata": {},
     "output_type": "execute_result"
    }
   ],
   "source": [
    "torch.ones((3,2))"
   ]
  },
  {
   "cell_type": "code",
   "execution_count": 138,
   "metadata": {
    "execution": {
     "iopub.execute_input": "2021-05-06T06:05:26.586572Z",
     "iopub.status.busy": "2021-05-06T06:05:26.585383Z",
     "iopub.status.idle": "2021-05-06T06:05:26.606972Z",
     "shell.execute_reply": "2021-05-06T06:05:26.607460Z"
    }
   },
   "outputs": [
    {
     "data": {
      "text/plain": [
       "tensor([[9],\n",
       "        [4],\n",
       "        [7],\n",
       "        [0]])"
      ]
     },
     "execution_count": 1,
     "metadata": {},
     "output_type": "execute_result"
    }
   ],
   "source": [
    "torch.randint(10, (4,1))"
   ]
  },
  {
   "cell_type": "markdown",
   "metadata": {},
   "source": [
    "As in numpy, tensors can be reshaped"
   ]
  },
  {
   "cell_type": "code",
   "execution_count": 139,
   "metadata": {
    "execution": {
     "iopub.execute_input": "2021-05-06T06:05:26.610345Z",
     "iopub.status.busy": "2021-05-06T06:05:26.609889Z",
     "iopub.status.idle": "2021-05-06T06:05:26.632005Z",
     "shell.execute_reply": "2021-05-06T06:05:26.632569Z"
    }
   },
   "outputs": [
    {
     "data": {
      "text/plain": [
       "tensor([[1., 2.],\n",
       "        [3., 4.],\n",
       "        [5., 6.]])"
      ]
     },
     "execution_count": 1,
     "metadata": {},
     "output_type": "execute_result"
    }
   ],
   "source": [
    "t.reshape(3, 2)"
   ]
  },
  {
   "cell_type": "markdown",
   "metadata": {},
   "source": [
    "In many cases, PyTorch provides the same methods on both the `Tensor` object and via the `torch` package."
   ]
  },
  {
   "cell_type": "code",
   "execution_count": 140,
   "metadata": {
    "execution": {
     "iopub.execute_input": "2021-05-06T06:05:26.635423Z",
     "iopub.status.busy": "2021-05-06T06:05:26.634944Z",
     "iopub.status.idle": "2021-05-06T06:05:26.656030Z",
     "shell.execute_reply": "2021-05-06T06:05:26.656532Z"
    }
   },
   "outputs": [
    {
     "data": {
      "text/plain": [
       "tensor([1., 2., 3., 4., 5., 6.])"
      ]
     },
     "execution_count": 1,
     "metadata": {},
     "output_type": "execute_result"
    }
   ],
   "source": [
    "torch.reshape(t, (-1,))"
   ]
  },
  {
   "cell_type": "markdown",
   "metadata": {},
   "source": [
    "As in numpy, many functions are provided for computations over tensors, for example,"
   ]
  },
  {
   "cell_type": "code",
   "execution_count": 141,
   "metadata": {
    "execution": {
     "iopub.execute_input": "2021-05-06T06:05:26.659430Z",
     "iopub.status.busy": "2021-05-06T06:05:26.658953Z",
     "iopub.status.idle": "2021-05-06T06:05:26.679995Z",
     "shell.execute_reply": "2021-05-06T06:05:26.680505Z"
    }
   },
   "outputs": [
    {
     "name": "stdout",
     "output_type": "stream",
     "text": [
      "tensor([2., 5.]) shape=torch.Size([2]) dtype=torch.float32\n"
     ]
    }
   ],
   "source": [
    "print_arr(torch.mean(t, dim=1))"
   ]
  },
  {
   "cell_type": "markdown",
   "metadata": {},
   "source": [
    "Sometime it's necessary to preserve original dimensions:"
   ]
  },
  {
   "cell_type": "code",
   "execution_count": 142,
   "metadata": {
    "execution": {
     "iopub.execute_input": "2021-05-06T06:05:26.683810Z",
     "iopub.status.busy": "2021-05-06T06:05:26.683133Z",
     "iopub.status.idle": "2021-05-06T06:05:26.703495Z",
     "shell.execute_reply": "2021-05-06T06:05:26.704010Z"
    }
   },
   "outputs": [
    {
     "name": "stdout",
     "output_type": "stream",
     "text": [
      "tensor([[2.],\n",
      "        [5.]]) shape=torch.Size([2, 1]) dtype=torch.float32\n"
     ]
    }
   ],
   "source": [
    "print_arr(torch.mean(t, dim=1, keepdim=True))"
   ]
  },
  {
   "cell_type": "markdown",
   "metadata": {},
   "source": [
    "Properties of a tensor:"
   ]
  },
  {
   "cell_type": "code",
   "execution_count": 143,
   "metadata": {
    "execution": {
     "iopub.execute_input": "2021-05-06T06:05:26.707343Z",
     "iopub.status.busy": "2021-05-06T06:05:26.706854Z",
     "iopub.status.idle": "2021-05-06T06:05:26.728087Z",
     "shell.execute_reply": "2021-05-06T06:05:26.728714Z"
    }
   },
   "outputs": [
    {
     "name": "stdout",
     "output_type": "stream",
     "text": [
      "shape: torch.Size([2, 3])\n",
      "also shape: torch.Size([2, 3])\n",
      "dimensions: 2\n",
      "type: torch.FloatTensor\n",
      "device: cpu\n"
     ]
    }
   ],
   "source": [
    "print('shape:', t.shape)   # t.shape works like in numpy\n",
    "print('also shape:', t.size())\n",
    "print('dimensions:', t.dim())\n",
    "print('type:', t.type())\n",
    "print('device:', t.device)"
   ]
  },
  {
   "cell_type": "markdown",
   "metadata": {},
   "source": [
    "**Slicing** works just like in numpy:"
   ]
  },
  {
   "cell_type": "code",
   "execution_count": 144,
   "metadata": {
    "execution": {
     "iopub.execute_input": "2021-05-06T06:05:26.732304Z",
     "iopub.status.busy": "2021-05-06T06:05:26.731775Z",
     "iopub.status.idle": "2021-05-06T06:05:26.754707Z",
     "shell.execute_reply": "2021-05-06T06:05:26.755256Z"
    }
   },
   "outputs": [
    {
     "data": {
      "text/plain": [
       "tensor([[1., 2., 3.],\n",
       "        [4., 5., 6.],\n",
       "        [7., 8., 9.]])"
      ]
     },
     "execution_count": 1,
     "metadata": {},
     "output_type": "execute_result"
    }
   ],
   "source": [
    "t = torch.Tensor([[1, 2, 3], [4, 5, 6], [7, 8, 9]])\n",
    "t"
   ]
  },
  {
   "cell_type": "code",
   "execution_count": 145,
   "metadata": {
    "execution": {
     "iopub.execute_input": "2021-05-06T06:05:26.758107Z",
     "iopub.status.busy": "2021-05-06T06:05:26.757620Z",
     "iopub.status.idle": "2021-05-06T06:05:26.778767Z",
     "shell.execute_reply": "2021-05-06T06:05:26.779323Z"
    }
   },
   "outputs": [
    {
     "data": {
      "text/plain": [
       "tensor([3., 6., 9.])"
      ]
     },
     "execution_count": 1,
     "metadata": {},
     "output_type": "execute_result"
    }
   ],
   "source": [
    "t[:, -1]"
   ]
  },
  {
   "cell_type": "code",
   "execution_count": 146,
   "metadata": {
    "execution": {
     "iopub.execute_input": "2021-05-06T06:05:26.782160Z",
     "iopub.status.busy": "2021-05-06T06:05:26.781689Z",
     "iopub.status.idle": "2021-05-06T06:05:26.802489Z",
     "shell.execute_reply": "2021-05-06T06:05:26.803077Z"
    }
   },
   "outputs": [
    {
     "data": {
      "text/plain": [
       "tensor([[1., 2., 3.],\n",
       "        [4., 5., 6.]])"
      ]
     },
     "execution_count": 1,
     "metadata": {},
     "output_type": "execute_result"
    }
   ],
   "source": [
    "t[:2, :]"
   ]
  },
  {
   "cell_type": "code",
   "execution_count": 147,
   "metadata": {
    "execution": {
     "iopub.execute_input": "2021-05-06T06:05:26.806202Z",
     "iopub.status.busy": "2021-05-06T06:05:26.805671Z",
     "iopub.status.idle": "2021-05-06T06:05:26.826464Z",
     "shell.execute_reply": "2021-05-06T06:05:26.826983Z"
    }
   },
   "outputs": [
    {
     "data": {
      "text/plain": [
       "tensor([[9.]])"
      ]
     },
     "execution_count": 1,
     "metadata": {},
     "output_type": "execute_result"
    }
   ],
   "source": [
    "t[-1:, -1:]"
   ]
  },
  {
   "cell_type": "markdown",
   "metadata": {},
   "source": [
    "Unlike numpy, PyTorch tensors can be moved to **GPU** memory (if a GPU is available on the machine)."
   ]
  },
  {
   "cell_type": "code",
   "execution_count": 148,
   "metadata": {
    "execution": {
     "iopub.execute_input": "2021-05-06T06:05:26.829985Z",
     "iopub.status.busy": "2021-05-06T06:05:26.829500Z",
     "iopub.status.idle": "2021-05-06T06:05:26.852055Z",
     "shell.execute_reply": "2021-05-06T06:05:26.851480Z"
    }
   },
   "outputs": [],
   "source": [
    "if torch.cuda.is_available():\n",
    "    t = t.cuda()"
   ]
  },
  {
   "cell_type": "code",
   "execution_count": 149,
   "metadata": {
    "execution": {
     "iopub.execute_input": "2021-05-06T06:05:26.855601Z",
     "iopub.status.busy": "2021-05-06T06:05:26.855039Z",
     "iopub.status.idle": "2021-05-06T06:05:26.875885Z",
     "shell.execute_reply": "2021-05-06T06:05:26.875376Z"
    }
   },
   "outputs": [
    {
     "name": "stdout",
     "output_type": "stream",
     "text": [
      "device=device(type='cpu')\n"
     ]
    }
   ],
   "source": [
    "# Better way to use GPU tensors (and later - models)\n",
    "device = torch.device('cuda' if torch.cuda.is_available() else 'cpu')\n",
    "\n",
    "t = t.to(device)\n",
    "print(f'{device=}')"
   ]
  },
  {
   "cell_type": "markdown",
   "metadata": {},
   "source": [
    "**Adding dimentions**"
   ]
  },
  {
   "cell_type": "code",
   "execution_count": 150,
   "metadata": {
    "execution": {
     "iopub.execute_input": "2021-05-06T06:05:26.878787Z",
     "iopub.status.busy": "2021-05-06T06:05:26.878302Z",
     "iopub.status.idle": "2021-05-06T06:05:26.899909Z",
     "shell.execute_reply": "2021-05-06T06:05:26.900442Z"
    }
   },
   "outputs": [
    {
     "name": "stdout",
     "output_type": "stream",
     "text": [
      "tensor([[1., 2., 3.],\n",
      "        [4., 5., 6.],\n",
      "        [7., 8., 9.]]) shape=torch.Size([3, 3]) dtype=torch.float32\n"
     ]
    }
   ],
   "source": [
    "print_arr(t)"
   ]
  },
  {
   "cell_type": "code",
   "execution_count": 151,
   "metadata": {
    "execution": {
     "iopub.execute_input": "2021-05-06T06:05:26.903823Z",
     "iopub.status.busy": "2021-05-06T06:05:26.903307Z",
     "iopub.status.idle": "2021-05-06T06:05:26.924082Z",
     "shell.execute_reply": "2021-05-06T06:05:26.924642Z"
    }
   },
   "outputs": [
    {
     "name": "stdout",
     "output_type": "stream",
     "text": [
      "tensor([[[1., 2., 3.],\n",
      "         [4., 5., 6.],\n",
      "         [7., 8., 9.]]]) shape=torch.Size([1, 3, 3]) dtype=torch.float32\n"
     ]
    }
   ],
   "source": [
    "# Add a new dimention as the first one\n",
    "tt = t.unsqueeze(0)\n",
    "print_arr(tt)"
   ]
  },
  {
   "cell_type": "code",
   "execution_count": 152,
   "metadata": {
    "execution": {
     "iopub.execute_input": "2021-05-06T06:05:26.927514Z",
     "iopub.status.busy": "2021-05-06T06:05:26.927038Z",
     "iopub.status.idle": "2021-05-06T06:05:26.948574Z",
     "shell.execute_reply": "2021-05-06T06:05:26.949167Z"
    }
   },
   "outputs": [
    {
     "data": {
      "text/plain": [
       "torch.Size([3, 1, 3])"
      ]
     },
     "execution_count": 1,
     "metadata": {},
     "output_type": "execute_result"
    }
   ],
   "source": [
    "# Add a new dimension using slicing\n",
    "t[:, None, :].shape"
   ]
  },
  {
   "cell_type": "markdown",
   "metadata": {},
   "source": [
    "**Broadcasting** also works (with identical semantics):"
   ]
  },
  {
   "cell_type": "code",
   "execution_count": 153,
   "metadata": {
    "execution": {
     "iopub.execute_input": "2021-05-06T06:05:26.954064Z",
     "iopub.status.busy": "2021-05-06T06:05:26.953553Z",
     "iopub.status.idle": "2021-05-06T06:05:26.974380Z",
     "shell.execute_reply": "2021-05-06T06:05:26.974894Z"
    }
   },
   "outputs": [
    {
     "name": "stdout",
     "output_type": "stream",
     "text": [
      "tensor([[ 1,  2,  3],\n",
      "        [ 4,  5,  6],\n",
      "        [ 7,  8,  9],\n",
      "        [10, 11, 12]]) shape=torch.Size([4, 3]) dtype=torch.int64\n",
      "\n",
      "tensor([1, 0, 1]) shape=torch.Size([3]) dtype=torch.int64\n"
     ]
    }
   ],
   "source": [
    "x = torch.tensor([[1,2,3], [4,5,6], [7,8,9], [10, 11, 12]])\n",
    "v = torch.tensor([1, 0, 1])\n",
    "\n",
    "print_arr(x)\n",
    "print_arr(v, '\\n')"
   ]
  },
  {
   "cell_type": "code",
   "execution_count": 154,
   "metadata": {
    "execution": {
     "iopub.execute_input": "2021-05-06T06:05:26.977632Z",
     "iopub.status.busy": "2021-05-06T06:05:26.977142Z",
     "iopub.status.idle": "2021-05-06T06:05:27.000298Z",
     "shell.execute_reply": "2021-05-06T06:05:27.000946Z"
    }
   },
   "outputs": [
    {
     "data": {
      "text/plain": [
       "tensor([[ 2,  2,  4],\n",
       "        [ 5,  5,  7],\n",
       "        [ 8,  8, 10],\n",
       "        [11, 11, 13]])"
      ]
     },
     "execution_count": 1,
     "metadata": {},
     "output_type": "execute_result"
    }
   ],
   "source": [
    "y = x + v  # Add v to each row of x using broadcasting\n",
    "y"
   ]
  },
  {
   "cell_type": "markdown",
   "metadata": {},
   "source": [
    "Many useful mathematical functions are available in the `torch` namespace"
   ]
  },
  {
   "cell_type": "code",
   "execution_count": 155,
   "metadata": {
    "execution": {
     "iopub.execute_input": "2021-05-06T06:05:27.004409Z",
     "iopub.status.busy": "2021-05-06T06:05:27.003923Z",
     "iopub.status.idle": "2021-05-06T06:05:27.026575Z",
     "shell.execute_reply": "2021-05-06T06:05:27.027120Z"
    }
   },
   "outputs": [
    {
     "name": "stdout",
     "output_type": "stream",
     "text": [
      "tensor([[2.7183e+00, 7.3891e+00, 2.0086e+01],\n",
      "        [5.4598e+01, 1.4841e+02, 4.0343e+02],\n",
      "        [1.0966e+03, 2.9810e+03, 8.1031e+03]]) shape=torch.Size([3, 3]) dtype=torch.float32\n",
      "tensor([[ 0.8415,  0.9093,  0.1411],\n",
      "        [-0.7568, -0.9589, -0.2794],\n",
      "        [ 0.6570,  0.9894,  0.4121]]) shape=torch.Size([3, 3]) dtype=torch.float32\n",
      "tensor([[0.0900, 0.2447, 0.6652],\n",
      "        [0.0900, 0.2447, 0.6652],\n",
      "        [0.0900, 0.2447, 0.6652]]) shape=torch.Size([3, 3]) dtype=torch.float32\n",
      "tensor([[1., 2., 3.],\n",
      "        [4., 5., 6.],\n",
      "        [7., 8., 9.]]) shape=torch.Size([3, 3]) dtype=torch.float32\n"
     ]
    }
   ],
   "source": [
    "print_arr(torch.exp(t))\n",
    "print_arr(torch.sin(t))\n",
    "\n",
    "print_arr(torch.softmax(t, dim=1))\n",
    "print_arr(torch.relu(t))"
   ]
  },
  {
   "cell_type": "markdown",
   "metadata": {},
   "source": [
    "### Automatic differentiation"
   ]
  },
  {
   "cell_type": "markdown",
   "metadata": {},
   "source": [
    "The most important aspect which sets `pytorch` appart from `numpy` is the **automatic differentiation**.\n",
    "\n",
    "Pytorch can automatically *track* computations performed on tensors to build a *computation graph* which can be used for applying the chain rule in order to compute arbitrary derivatives.\n",
    "\n",
    "In the remainder of the course we'll go deeper, and use this ability extensively to train neural networks via the back-propagation algorithm.\n",
    "\n",
    "For now, we'll only show a short demo of this functionality."
   ]
  },
  {
   "cell_type": "code",
   "execution_count": 156,
   "metadata": {
    "execution": {
     "iopub.execute_input": "2021-05-06T06:05:27.030604Z",
     "iopub.status.busy": "2021-05-06T06:05:27.030117Z",
     "iopub.status.idle": "2021-05-06T06:05:27.051272Z",
     "shell.execute_reply": "2021-05-06T06:05:27.051857Z"
    }
   },
   "outputs": [
    {
     "data": {
      "text/plain": [
       "tensor([1., 2., 3.], requires_grad=True)"
      ]
     },
     "execution_count": 1,
     "metadata": {},
     "output_type": "execute_result"
    }
   ],
   "source": [
    "# Tell pytorch to track operations w.r.t. this tensor\n",
    "w = torch.tensor([1, 2, 3], dtype=torch.float32, requires_grad=True)\n",
    "w"
   ]
  },
  {
   "cell_type": "code",
   "execution_count": 157,
   "metadata": {
    "execution": {
     "iopub.execute_input": "2021-05-06T06:05:27.054999Z",
     "iopub.status.busy": "2021-05-06T06:05:27.054495Z",
     "iopub.status.idle": "2021-05-06T06:05:27.076020Z",
     "shell.execute_reply": "2021-05-06T06:05:27.076588Z"
    }
   },
   "outputs": [],
   "source": [
    "# Do some arbitrary calculations with w\n",
    "x = 2*w\n",
    "y = torch.exp(-x)\n",
    "z = y ** 3 - 2"
   ]
  },
  {
   "cell_type": "code",
   "execution_count": 158,
   "metadata": {
    "execution": {
     "iopub.execute_input": "2021-05-06T06:05:27.079547Z",
     "iopub.status.busy": "2021-05-06T06:05:27.078990Z",
     "iopub.status.idle": "2021-05-06T06:05:27.099547Z",
     "shell.execute_reply": "2021-05-06T06:05:27.100096Z"
    }
   },
   "outputs": [
    {
     "data": {
      "text/plain": [
       "tensor(-5.9975, grad_fn=<SumBackward0>)"
      ]
     },
     "execution_count": 1,
     "metadata": {},
     "output_type": "execute_result"
    }
   ],
   "source": [
    "# Aggregate so that we get a scalar\n",
    "l = torch.sum(z)\n",
    "l"
   ]
  },
  {
   "cell_type": "markdown",
   "metadata": {},
   "source": [
    "Notice the `grad_fn` property which appeared. Let's see what we can now do."
   ]
  },
  {
   "cell_type": "code",
   "execution_count": 159,
   "metadata": {
    "execution": {
     "iopub.execute_input": "2021-05-06T06:05:27.103077Z",
     "iopub.status.busy": "2021-05-06T06:05:27.102602Z",
     "iopub.status.idle": "2021-05-06T06:05:27.122950Z",
     "shell.execute_reply": "2021-05-06T06:05:27.123497Z"
    }
   },
   "outputs": [
    {
     "data": {
      "text/plain": [
       "(tensor([-1.4873e-02, -3.6865e-05, -9.1380e-08]),)"
      ]
     },
     "execution_count": 1,
     "metadata": {},
     "output_type": "execute_result"
    }
   ],
   "source": [
    "from torch import autograd\n",
    "\n",
    "# This is where the magic happens\n",
    "w_grad = autograd.grad(l, w)\n",
    "w_grad"
   ]
  },
  {
   "cell_type": "markdown",
   "metadata": {},
   "source": [
    "What does each element of `w_grad` contain?"
   ]
  },
  {
   "cell_type": "markdown",
   "metadata": {},
   "source": [
    "Each element $i$ of `w_grad` is actually the derivative of `l` with respect to that element in `w`!\n",
    "\n",
    "In other words,\n",
    "\n",
    "$$\n",
    "\\left[\\mathtt{w_{grad}}\\right]_i=\\frac{\\partial \\ell}{\\partial w_i}.\n",
    "$$"
   ]
  },
  {
   "cell_type": "markdown",
   "metadata": {},
   "source": [
    "How did this happen?\n",
    "\n",
    "When we used `w` for calculations a computation graph was constructed behind the scenes.\n",
    "This graph contains the intermediate results required to compute the derivative via the chain rule:\n",
    "\n",
    "$$\n",
    "\\frac{\\partial \\ell}{\\partial \\bb{w}} = \\frac{\\partial \\ell}{\\partial \\bb{z}}\\frac{\\partial \\bb{z}}{\\partial \\bb{y}}\\frac{\\partial \\bb{y}}{\\partial \\bb{x}}\\frac{\\partial \\bb{x}}{\\partial \\bb{w}}\n",
    "$$\n"
   ]
  },
  {
   "cell_type": "markdown",
   "metadata": {},
   "source": [
    "We'll explore this in greater detail over the next tutorials.\n",
    "\n",
    "For now, lets look at the computation graph resulting from the above calculations."
   ]
  },
  {
   "cell_type": "code",
   "execution_count": 160,
   "metadata": {
    "execution": {
     "iopub.execute_input": "2021-05-06T06:05:27.126449Z",
     "iopub.status.busy": "2021-05-06T06:05:27.125969Z",
     "iopub.status.idle": "2021-05-06T06:05:27.367797Z",
     "shell.execute_reply": "2021-05-06T06:05:27.368337Z"
    }
   },
   "outputs": [
    {
     "data": {
      "image/svg+xml": [
       "<?xml version=\"1.0\" encoding=\"UTF-8\" standalone=\"no\"?>\n",
       "<!DOCTYPE svg PUBLIC \"-//W3C//DTD SVG 1.1//EN\"\n",
       " \"http://www.w3.org/Graphics/SVG/1.1/DTD/svg11.dtd\">\n",
       "<!-- Generated by graphviz version 2.42.3 (20191010.1750)\n",
       " -->\n",
       "<!-- Title: %3 Pages: 1 -->\n",
       "<svg width=\"101pt\" height=\"376pt\"\n",
       " viewBox=\"0.00 0.00 100.65 376.00\" xmlns=\"http://www.w3.org/2000/svg\" xmlns:xlink=\"http://www.w3.org/1999/xlink\">\n",
       "<g id=\"graph0\" class=\"graph\" transform=\"scale(1 1) rotate(0) translate(4 372)\">\n",
       "<title>%3</title>\n",
       "<polygon fill=\"white\" stroke=\"transparent\" points=\"-4,4 -4,-372 96.65,-372 96.65,4 -4,4\"/>\n",
       "<!-- 140407326760288 -->\n",
       "<g id=\"node1\" class=\"node\">\n",
       "<title>140407326760288</title>\n",
       "<polygon fill=\"#caff70\" stroke=\"black\" points=\"92.48,-20 0.17,-20 0.17,0 92.48,0 92.48,-20\"/>\n",
       "<text text-anchor=\"middle\" x=\"46.33\" y=\"-6.4\" font-family=\"Times,serif\" font-size=\"12.00\">SumBackward0</text>\n",
       "</g>\n",
       "<!-- 140407326760096 -->\n",
       "<g id=\"node2\" class=\"node\">\n",
       "<title>140407326760096</title>\n",
       "<polygon fill=\"lightgrey\" stroke=\"black\" points=\"91.15,-76 1.51,-76 1.51,-56 91.15,-56 91.15,-76\"/>\n",
       "<text text-anchor=\"middle\" x=\"46.33\" y=\"-62.4\" font-family=\"Times,serif\" font-size=\"12.00\">SubBackward0</text>\n",
       "</g>\n",
       "<!-- 140407326760096&#45;&gt;140407326760288 -->\n",
       "<g id=\"edge1\" class=\"edge\">\n",
       "<title>140407326760096&#45;&gt;140407326760288</title>\n",
       "<path fill=\"none\" stroke=\"black\" d=\"M46.33,-55.59C46.33,-48.7 46.33,-39.1 46.33,-30.57\"/>\n",
       "<polygon fill=\"black\" stroke=\"black\" points=\"49.83,-30.3 46.33,-20.3 42.83,-30.3 49.83,-30.3\"/>\n",
       "</g>\n",
       "<!-- 140407327249024 -->\n",
       "<g id=\"node3\" class=\"node\">\n",
       "<title>140407327249024</title>\n",
       "<polygon fill=\"lightgrey\" stroke=\"black\" points=\"92.31,-132 0.34,-132 0.34,-112 92.31,-112 92.31,-132\"/>\n",
       "<text text-anchor=\"middle\" x=\"46.33\" y=\"-118.4\" font-family=\"Times,serif\" font-size=\"12.00\">PowBackward0</text>\n",
       "</g>\n",
       "<!-- 140407327249024&#45;&gt;140407326760096 -->\n",
       "<g id=\"edge2\" class=\"edge\">\n",
       "<title>140407327249024&#45;&gt;140407326760096</title>\n",
       "<path fill=\"none\" stroke=\"black\" d=\"M46.33,-111.59C46.33,-104.7 46.33,-95.1 46.33,-86.57\"/>\n",
       "<polygon fill=\"black\" stroke=\"black\" points=\"49.83,-86.3 46.33,-76.3 42.83,-86.3 49.83,-86.3\"/>\n",
       "</g>\n",
       "<!-- 140407327249120 -->\n",
       "<g id=\"node4\" class=\"node\">\n",
       "<title>140407327249120</title>\n",
       "<polygon fill=\"lightgrey\" stroke=\"black\" points=\"88.3,-188 4.35,-188 4.35,-168 88.3,-168 88.3,-188\"/>\n",
       "<text text-anchor=\"middle\" x=\"46.33\" y=\"-174.4\" font-family=\"Times,serif\" font-size=\"12.00\">ExpBackward</text>\n",
       "</g>\n",
       "<!-- 140407327249120&#45;&gt;140407327249024 -->\n",
       "<g id=\"edge3\" class=\"edge\">\n",
       "<title>140407327249120&#45;&gt;140407327249024</title>\n",
       "<path fill=\"none\" stroke=\"black\" d=\"M46.33,-167.59C46.33,-160.7 46.33,-151.1 46.33,-142.57\"/>\n",
       "<polygon fill=\"black\" stroke=\"black\" points=\"49.83,-142.3 46.33,-132.3 42.83,-142.3 49.83,-142.3\"/>\n",
       "</g>\n",
       "<!-- 140407327249264 -->\n",
       "<g id=\"node5\" class=\"node\">\n",
       "<title>140407327249264</title>\n",
       "<polygon fill=\"lightgrey\" stroke=\"black\" points=\"88.46,-244 4.19,-244 4.19,-224 88.46,-224 88.46,-244\"/>\n",
       "<text text-anchor=\"middle\" x=\"46.33\" y=\"-230.4\" font-family=\"Times,serif\" font-size=\"12.00\">NegBackward</text>\n",
       "</g>\n",
       "<!-- 140407327249264&#45;&gt;140407327249120 -->\n",
       "<g id=\"edge4\" class=\"edge\">\n",
       "<title>140407327249264&#45;&gt;140407327249120</title>\n",
       "<path fill=\"none\" stroke=\"black\" d=\"M46.33,-223.59C46.33,-216.7 46.33,-207.1 46.33,-198.57\"/>\n",
       "<polygon fill=\"black\" stroke=\"black\" points=\"49.83,-198.3 46.33,-188.3 42.83,-198.3 49.83,-198.3\"/>\n",
       "</g>\n",
       "<!-- 140407327249360 -->\n",
       "<g id=\"node6\" class=\"node\">\n",
       "<title>140407327249360</title>\n",
       "<polygon fill=\"lightgrey\" stroke=\"black\" points=\"91.48,-300 1.18,-300 1.18,-280 91.48,-280 91.48,-300\"/>\n",
       "<text text-anchor=\"middle\" x=\"46.33\" y=\"-286.4\" font-family=\"Times,serif\" font-size=\"12.00\">MulBackward0</text>\n",
       "</g>\n",
       "<!-- 140407327249360&#45;&gt;140407327249264 -->\n",
       "<g id=\"edge5\" class=\"edge\">\n",
       "<title>140407327249360&#45;&gt;140407327249264</title>\n",
       "<path fill=\"none\" stroke=\"black\" d=\"M46.33,-279.59C46.33,-272.7 46.33,-263.1 46.33,-254.57\"/>\n",
       "<polygon fill=\"black\" stroke=\"black\" points=\"49.83,-254.3 46.33,-244.3 42.83,-254.3 49.83,-254.3\"/>\n",
       "</g>\n",
       "<!-- 140407327249456 -->\n",
       "<g id=\"node7\" class=\"node\">\n",
       "<title>140407327249456</title>\n",
       "<polygon fill=\"lightblue\" stroke=\"black\" points=\"73.33,-368 19.33,-368 19.33,-336 73.33,-336 73.33,-368\"/>\n",
       "<text text-anchor=\"middle\" x=\"46.33\" y=\"-354.4\" font-family=\"Times,serif\" font-size=\"12.00\">w</text>\n",
       "<text text-anchor=\"middle\" x=\"46.33\" y=\"-342.4\" font-family=\"Times,serif\" font-size=\"12.00\"> (3)</text>\n",
       "</g>\n",
       "<!-- 140407327249456&#45;&gt;140407327249360 -->\n",
       "<g id=\"edge6\" class=\"edge\">\n",
       "<title>140407327249456&#45;&gt;140407327249360</title>\n",
       "<path fill=\"none\" stroke=\"black\" d=\"M46.33,-335.86C46.33,-328.13 46.33,-318.63 46.33,-310.37\"/>\n",
       "<polygon fill=\"black\" stroke=\"black\" points=\"49.83,-310.15 46.33,-300.15 42.83,-310.15 49.83,-310.15\"/>\n",
       "</g>\n",
       "</g>\n",
       "</svg>\n"
      ],
      "text/plain": [
       "<graphviz.dot.Digraph at 0x7fb320d5deb0>"
      ]
     },
     "execution_count": 1,
     "metadata": {},
     "output_type": "execute_result"
    }
   ],
   "source": [
    "import torchviz\n",
    "\n",
    "torchviz.make_dot(l, params=dict(w=w))"
   ]
  },
  {
   "cell_type": "markdown",
   "metadata": {
    "slideshow": {
     "slide_type": "skip"
    }
   },
   "source": [
    "**Credits**\n",
    "\n",
    "This tutorial was written by [Aviv A. Rosenberg](https://avivr.net).<br>\n",
    "To re-use, please provide attribution and link to the original.\n",
    "\n",
    "Some images in this tutorial were taken and/or adapted from the following sources:\n",
    "- https://thegradient.pub/state-of-ml-frameworks-2019-pytorch-dominates-research-tensorflow-dominates-industry\n",
    "\n",
    "The Python section here was adapted from:\n",
    "- [CS231n Python tutorial](http://cs231n.github.io/python-numpy-tutorial/) by Justin Johnson."
   ]
  }
 ],
 "metadata": {
  "celltoolbar": "Slideshow",
  "kernelspec": {
   "display_name": "Python 3",
   "language": "python",
   "name": "python3"
  },
  "language_info": {
   "codemirror_mode": {
    "name": "ipython",
    "version": 3
   },
   "file_extension": ".py",
   "mimetype": "text/x-python",
   "name": "python",
   "nbconvert_exporter": "python",
   "pygments_lexer": "ipython3",
   "version": "3.8.6"
  },
  "toc-autonumbering": false
 },
 "nbformat": 4,
 "nbformat_minor": 4
}
